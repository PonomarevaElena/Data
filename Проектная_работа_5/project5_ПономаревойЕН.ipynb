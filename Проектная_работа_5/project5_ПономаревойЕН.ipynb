{
 "cells": [
  {
   "cell_type": "markdown",
   "metadata": {
    "id": "oQenSPn_2MWI"
   },
   "source": [
    "# Сегментация клиентской базы сети фитнес-центров\n",
    "\n",
    "## Общее описание проекта\n",
    "Сеть фитнес-центров разрабатывает стратегию взаимодействия с клиентами на основе аналитических данных.\n",
    "\n",
    "Одна из проблем фитнес-клубов — отток клиентов. Индикаторы оттока зависят от специфики отрасли. Когда пользователь редко, но стабильно закупается в интернет-магазине — не похоже, что он «отвалился». А вот если две недели не заходит на канал с ежедневно обновляемым контентом, дела плохи: подписчик заскучал и, кажется, оставил вас. \n",
    "\n",
    "Для фитнес-центра можно считать, что клиент попал в отток, если за последний месяц ни разу не посетил спортзал. \n",
    "\n",
    "**Аналитическая задача** — провести анализ и подготовить план действий по удержанию клиентов. \n",
    "\n",
    "**Для решения поставленной задачи** необходимо:\n",
    "1. Сформировать типичные портреты клиентов: \n",
    "    - выделить несколько наиболее ярких групп и охарактеризовать их основные свойства;\n",
    "2. Проанализировать основные признаки, наиболее сильно влияющие на отток;\n",
    "3. Сформулировать основные выводы и разработать рекомендации по повышению качества работы с клиентами:\n",
    "    - выделить целевые группы клиентов;\n",
    "    - предложить меры по снижению оттока;\n",
    "    - определить другие особенности взаимодействия с клиентами.\n",
    "    \n",
    "## Описание данных\n",
    "Заказчик предоставил клиентскую базу, содержащую данные на месяц до оттока и факт оттока на определённый месяц. Каждая запись характеризуется следующим единым набором признаков, описывающих клиента:\n",
    "\n",
    "**за месяц до проверки факта оттока**\n",
    "\n",
    "|**Признак**|**Описание признака**|\n",
    "|---:|:---|\n",
    "|`gender`|пол|\n",
    "|`Near_Location`|проживание или работа в районе, где находится фитнес-центр|\n",
    "|`Partner`|сотрудник компании-партнёра клуба (сотрудничество с компаниями, чьи сотрудники могут получать скидки на абонемент — в таком случае фитнес-центр хранит информацию о работодателе клиента)|\n",
    "|`Promo_friends`|факт первоначальной записи в рамках акции «приведи друга» (использовал промо-код от знакомого при оплате первого абонемента)|\n",
    "|`Phone`|наличие контактного телефона|\n",
    "|`Age`|возраст|\n",
    "|`Lifetime`|время с момента первого обращения в фитнес-центр (в месяцах)|\n",
    "\n",
    "**за месяц, в котором проводилась проверка факта оттока**\n",
    "\n",
    "|**Признак**|**Описание признака**|\n",
    "|---:|:---|\n",
    "|`Contract_period`|длительность текущего действующего абонемента (месяц, 3 месяца, 6 месяцев, год)|\n",
    "|`Month_to_end_contract`|срок до окончания текущего действующего абонемента (в месяцах)|\n",
    "|`Group_visits`|факт посещения групповых занятий|\n",
    "|`Avg_class_frequency_total`|средняя частота посещений в неделю за все время с начала действия абонемента|\n",
    "|`Avg_class_frequency_current_month`|средняя частота посещений в неделю за предыдущий месяц|\n",
    "|`Avg_additional_charges_total`|суммарная выручка от других услуг фитнес-центра: кафе, спорт-товары, косметический и массажный салон|\n",
    "|`Churn`|факт оттока в текущем месяце|\n",
    "\n",
    "## Инструкция по выполнению проекта\n",
    "\n",
    "**Шаг 1.** Загрузка данных;\n",
    "\n",
    "**Шаг 2.** Провести исследовательский анализ данных:\n",
    "    - поиск пропусков, дубликатов, описательных характеристик;\n",
    "    - изучение средних значений признаков в двух группах (ушел/остался);\n",
    "    - построение столбчатых гистограмм и распределений признаков по двум группам (ушел/остался);\n",
    "    - построение и визуализация матрицы корреляций;\n",
    "    - на основе исследуемых признаков сформировать портрет клиентов, склонных к оттоку.\n",
    "\n",
    "**Шаг 3.** Проверить гипотезы о склонности клиентов к оттоку по различным признакам."
   ]
  },
  {
   "cell_type": "code",
   "execution_count": 2,
   "metadata": {
    "executionInfo": {
     "elapsed": 5,
     "status": "ok",
     "timestamp": 1659986008830,
     "user": {
      "displayName": "Сергей ДПО",
      "userId": "02314231685143924763"
     },
     "user_tz": -180
    },
    "id": "36_JCMMc4AQm"
   },
   "outputs": [],
   "source": [
    "import pandas as pd\n",
    "import numpy as np\n",
    "# Ваш код здесь\n",
    "df=pd.read_csv('project5.csv')"
   ]
  },
  {
   "cell_type": "code",
   "execution_count": 3,
   "metadata": {},
   "outputs": [
    {
     "data": {
      "text/html": [
       "<div>\n",
       "<style scoped>\n",
       "    .dataframe tbody tr th:only-of-type {\n",
       "        vertical-align: middle;\n",
       "    }\n",
       "\n",
       "    .dataframe tbody tr th {\n",
       "        vertical-align: top;\n",
       "    }\n",
       "\n",
       "    .dataframe thead th {\n",
       "        text-align: right;\n",
       "    }\n",
       "</style>\n",
       "<table border=\"1\" class=\"dataframe\">\n",
       "  <thead>\n",
       "    <tr style=\"text-align: right;\">\n",
       "      <th></th>\n",
       "      <th>gender</th>\n",
       "      <th>Near_Location</th>\n",
       "      <th>Partner</th>\n",
       "      <th>Promo_friends</th>\n",
       "      <th>Phone</th>\n",
       "      <th>Contract_period</th>\n",
       "      <th>Group_visits</th>\n",
       "      <th>Age</th>\n",
       "      <th>Avg_additional_charges_total</th>\n",
       "      <th>Month_to_end_contract</th>\n",
       "      <th>Lifetime</th>\n",
       "      <th>Avg_class_frequency_total</th>\n",
       "      <th>Avg_class_frequency_current_month</th>\n",
       "      <th>Churn</th>\n",
       "    </tr>\n",
       "  </thead>\n",
       "  <tbody>\n",
       "    <tr>\n",
       "      <th>0</th>\n",
       "      <td>1</td>\n",
       "      <td>1</td>\n",
       "      <td>1</td>\n",
       "      <td>1</td>\n",
       "      <td>0</td>\n",
       "      <td>6</td>\n",
       "      <td>1</td>\n",
       "      <td>29</td>\n",
       "      <td>14.227470</td>\n",
       "      <td>5.0</td>\n",
       "      <td>3</td>\n",
       "      <td>0.020398</td>\n",
       "      <td>0.000000</td>\n",
       "      <td>0</td>\n",
       "    </tr>\n",
       "    <tr>\n",
       "      <th>1</th>\n",
       "      <td>0</td>\n",
       "      <td>1</td>\n",
       "      <td>0</td>\n",
       "      <td>0</td>\n",
       "      <td>1</td>\n",
       "      <td>12</td>\n",
       "      <td>1</td>\n",
       "      <td>31</td>\n",
       "      <td>113.202938</td>\n",
       "      <td>12.0</td>\n",
       "      <td>7</td>\n",
       "      <td>1.922936</td>\n",
       "      <td>1.910244</td>\n",
       "      <td>0</td>\n",
       "    </tr>\n",
       "    <tr>\n",
       "      <th>2</th>\n",
       "      <td>0</td>\n",
       "      <td>1</td>\n",
       "      <td>1</td>\n",
       "      <td>0</td>\n",
       "      <td>1</td>\n",
       "      <td>1</td>\n",
       "      <td>0</td>\n",
       "      <td>28</td>\n",
       "      <td>129.448479</td>\n",
       "      <td>1.0</td>\n",
       "      <td>2</td>\n",
       "      <td>1.859098</td>\n",
       "      <td>1.736502</td>\n",
       "      <td>0</td>\n",
       "    </tr>\n",
       "    <tr>\n",
       "      <th>3</th>\n",
       "      <td>0</td>\n",
       "      <td>1</td>\n",
       "      <td>1</td>\n",
       "      <td>1</td>\n",
       "      <td>1</td>\n",
       "      <td>12</td>\n",
       "      <td>1</td>\n",
       "      <td>33</td>\n",
       "      <td>62.669863</td>\n",
       "      <td>12.0</td>\n",
       "      <td>2</td>\n",
       "      <td>3.205633</td>\n",
       "      <td>3.357215</td>\n",
       "      <td>0</td>\n",
       "    </tr>\n",
       "    <tr>\n",
       "      <th>4</th>\n",
       "      <td>1</td>\n",
       "      <td>1</td>\n",
       "      <td>1</td>\n",
       "      <td>1</td>\n",
       "      <td>1</td>\n",
       "      <td>1</td>\n",
       "      <td>0</td>\n",
       "      <td>26</td>\n",
       "      <td>198.362265</td>\n",
       "      <td>1.0</td>\n",
       "      <td>3</td>\n",
       "      <td>1.113884</td>\n",
       "      <td>1.120078</td>\n",
       "      <td>0</td>\n",
       "    </tr>\n",
       "  </tbody>\n",
       "</table>\n",
       "</div>"
      ],
      "text/plain": [
       "   gender  Near_Location  Partner  Promo_friends  Phone  Contract_period  \\\n",
       "0       1              1        1              1      0                6   \n",
       "1       0              1        0              0      1               12   \n",
       "2       0              1        1              0      1                1   \n",
       "3       0              1        1              1      1               12   \n",
       "4       1              1        1              1      1                1   \n",
       "\n",
       "   Group_visits  Age  Avg_additional_charges_total  Month_to_end_contract  \\\n",
       "0             1   29                     14.227470                    5.0   \n",
       "1             1   31                    113.202938                   12.0   \n",
       "2             0   28                    129.448479                    1.0   \n",
       "3             1   33                     62.669863                   12.0   \n",
       "4             0   26                    198.362265                    1.0   \n",
       "\n",
       "   Lifetime  Avg_class_frequency_total  Avg_class_frequency_current_month  \\\n",
       "0         3                   0.020398                           0.000000   \n",
       "1         7                   1.922936                           1.910244   \n",
       "2         2                   1.859098                           1.736502   \n",
       "3         2                   3.205633                           3.357215   \n",
       "4         3                   1.113884                           1.120078   \n",
       "\n",
       "   Churn  \n",
       "0      0  \n",
       "1      0  \n",
       "2      0  \n",
       "3      0  \n",
       "4      0  "
      ]
     },
     "execution_count": 3,
     "metadata": {},
     "output_type": "execute_result"
    }
   ],
   "source": [
    "df.head()"
   ]
  },
  {
   "cell_type": "code",
   "execution_count": 4,
   "metadata": {},
   "outputs": [
    {
     "data": {
      "text/html": [
       "<div>\n",
       "<style scoped>\n",
       "    .dataframe tbody tr th:only-of-type {\n",
       "        vertical-align: middle;\n",
       "    }\n",
       "\n",
       "    .dataframe tbody tr th {\n",
       "        vertical-align: top;\n",
       "    }\n",
       "\n",
       "    .dataframe thead th {\n",
       "        text-align: right;\n",
       "    }\n",
       "</style>\n",
       "<table border=\"1\" class=\"dataframe\">\n",
       "  <thead>\n",
       "    <tr style=\"text-align: right;\">\n",
       "      <th></th>\n",
       "      <th>gender</th>\n",
       "      <th>Near_Location</th>\n",
       "      <th>Partner</th>\n",
       "      <th>Promo_friends</th>\n",
       "      <th>Phone</th>\n",
       "      <th>Contract_period</th>\n",
       "      <th>Group_visits</th>\n",
       "      <th>Age</th>\n",
       "      <th>Avg_additional_charges_total</th>\n",
       "      <th>Month_to_end_contract</th>\n",
       "      <th>Lifetime</th>\n",
       "      <th>Avg_class_frequency_total</th>\n",
       "      <th>Avg_class_frequency_current_month</th>\n",
       "      <th>Churn</th>\n",
       "    </tr>\n",
       "  </thead>\n",
       "  <tbody>\n",
       "    <tr>\n",
       "      <th>count</th>\n",
       "      <td>4000.000000</td>\n",
       "      <td>4000.000000</td>\n",
       "      <td>4000.000000</td>\n",
       "      <td>4000.000000</td>\n",
       "      <td>4000.000000</td>\n",
       "      <td>4000.000000</td>\n",
       "      <td>4000.000000</td>\n",
       "      <td>4000.000000</td>\n",
       "      <td>4000.000000</td>\n",
       "      <td>4000.000000</td>\n",
       "      <td>4000.000000</td>\n",
       "      <td>4000.000000</td>\n",
       "      <td>4000.000000</td>\n",
       "      <td>4000.000000</td>\n",
       "    </tr>\n",
       "    <tr>\n",
       "      <th>mean</th>\n",
       "      <td>0.510250</td>\n",
       "      <td>0.845250</td>\n",
       "      <td>0.486750</td>\n",
       "      <td>0.308500</td>\n",
       "      <td>0.903500</td>\n",
       "      <td>4.681250</td>\n",
       "      <td>0.412250</td>\n",
       "      <td>29.184250</td>\n",
       "      <td>146.943728</td>\n",
       "      <td>4.322750</td>\n",
       "      <td>3.724750</td>\n",
       "      <td>1.879020</td>\n",
       "      <td>1.767052</td>\n",
       "      <td>0.265250</td>\n",
       "    </tr>\n",
       "    <tr>\n",
       "      <th>std</th>\n",
       "      <td>0.499957</td>\n",
       "      <td>0.361711</td>\n",
       "      <td>0.499887</td>\n",
       "      <td>0.461932</td>\n",
       "      <td>0.295313</td>\n",
       "      <td>4.549706</td>\n",
       "      <td>0.492301</td>\n",
       "      <td>3.258367</td>\n",
       "      <td>96.355602</td>\n",
       "      <td>4.191297</td>\n",
       "      <td>3.749267</td>\n",
       "      <td>0.972245</td>\n",
       "      <td>1.052906</td>\n",
       "      <td>0.441521</td>\n",
       "    </tr>\n",
       "    <tr>\n",
       "      <th>min</th>\n",
       "      <td>0.000000</td>\n",
       "      <td>0.000000</td>\n",
       "      <td>0.000000</td>\n",
       "      <td>0.000000</td>\n",
       "      <td>0.000000</td>\n",
       "      <td>1.000000</td>\n",
       "      <td>0.000000</td>\n",
       "      <td>18.000000</td>\n",
       "      <td>0.148205</td>\n",
       "      <td>1.000000</td>\n",
       "      <td>0.000000</td>\n",
       "      <td>0.000000</td>\n",
       "      <td>0.000000</td>\n",
       "      <td>0.000000</td>\n",
       "    </tr>\n",
       "    <tr>\n",
       "      <th>25%</th>\n",
       "      <td>0.000000</td>\n",
       "      <td>1.000000</td>\n",
       "      <td>0.000000</td>\n",
       "      <td>0.000000</td>\n",
       "      <td>1.000000</td>\n",
       "      <td>1.000000</td>\n",
       "      <td>0.000000</td>\n",
       "      <td>27.000000</td>\n",
       "      <td>68.868830</td>\n",
       "      <td>1.000000</td>\n",
       "      <td>1.000000</td>\n",
       "      <td>1.180875</td>\n",
       "      <td>0.963003</td>\n",
       "      <td>0.000000</td>\n",
       "    </tr>\n",
       "    <tr>\n",
       "      <th>50%</th>\n",
       "      <td>1.000000</td>\n",
       "      <td>1.000000</td>\n",
       "      <td>0.000000</td>\n",
       "      <td>0.000000</td>\n",
       "      <td>1.000000</td>\n",
       "      <td>1.000000</td>\n",
       "      <td>0.000000</td>\n",
       "      <td>29.000000</td>\n",
       "      <td>136.220159</td>\n",
       "      <td>1.000000</td>\n",
       "      <td>3.000000</td>\n",
       "      <td>1.832768</td>\n",
       "      <td>1.719574</td>\n",
       "      <td>0.000000</td>\n",
       "    </tr>\n",
       "    <tr>\n",
       "      <th>75%</th>\n",
       "      <td>1.000000</td>\n",
       "      <td>1.000000</td>\n",
       "      <td>1.000000</td>\n",
       "      <td>1.000000</td>\n",
       "      <td>1.000000</td>\n",
       "      <td>6.000000</td>\n",
       "      <td>1.000000</td>\n",
       "      <td>31.000000</td>\n",
       "      <td>210.949625</td>\n",
       "      <td>6.000000</td>\n",
       "      <td>5.000000</td>\n",
       "      <td>2.536078</td>\n",
       "      <td>2.510336</td>\n",
       "      <td>1.000000</td>\n",
       "    </tr>\n",
       "    <tr>\n",
       "      <th>max</th>\n",
       "      <td>1.000000</td>\n",
       "      <td>1.000000</td>\n",
       "      <td>1.000000</td>\n",
       "      <td>1.000000</td>\n",
       "      <td>1.000000</td>\n",
       "      <td>12.000000</td>\n",
       "      <td>1.000000</td>\n",
       "      <td>41.000000</td>\n",
       "      <td>552.590740</td>\n",
       "      <td>12.000000</td>\n",
       "      <td>31.000000</td>\n",
       "      <td>6.023668</td>\n",
       "      <td>6.146783</td>\n",
       "      <td>1.000000</td>\n",
       "    </tr>\n",
       "  </tbody>\n",
       "</table>\n",
       "</div>"
      ],
      "text/plain": [
       "            gender  Near_Location      Partner  Promo_friends        Phone  \\\n",
       "count  4000.000000    4000.000000  4000.000000    4000.000000  4000.000000   \n",
       "mean      0.510250       0.845250     0.486750       0.308500     0.903500   \n",
       "std       0.499957       0.361711     0.499887       0.461932     0.295313   \n",
       "min       0.000000       0.000000     0.000000       0.000000     0.000000   \n",
       "25%       0.000000       1.000000     0.000000       0.000000     1.000000   \n",
       "50%       1.000000       1.000000     0.000000       0.000000     1.000000   \n",
       "75%       1.000000       1.000000     1.000000       1.000000     1.000000   \n",
       "max       1.000000       1.000000     1.000000       1.000000     1.000000   \n",
       "\n",
       "       Contract_period  Group_visits          Age  \\\n",
       "count      4000.000000   4000.000000  4000.000000   \n",
       "mean          4.681250      0.412250    29.184250   \n",
       "std           4.549706      0.492301     3.258367   \n",
       "min           1.000000      0.000000    18.000000   \n",
       "25%           1.000000      0.000000    27.000000   \n",
       "50%           1.000000      0.000000    29.000000   \n",
       "75%           6.000000      1.000000    31.000000   \n",
       "max          12.000000      1.000000    41.000000   \n",
       "\n",
       "       Avg_additional_charges_total  Month_to_end_contract     Lifetime  \\\n",
       "count                   4000.000000            4000.000000  4000.000000   \n",
       "mean                     146.943728               4.322750     3.724750   \n",
       "std                       96.355602               4.191297     3.749267   \n",
       "min                        0.148205               1.000000     0.000000   \n",
       "25%                       68.868830               1.000000     1.000000   \n",
       "50%                      136.220159               1.000000     3.000000   \n",
       "75%                      210.949625               6.000000     5.000000   \n",
       "max                      552.590740              12.000000    31.000000   \n",
       "\n",
       "       Avg_class_frequency_total  Avg_class_frequency_current_month  \\\n",
       "count                4000.000000                        4000.000000   \n",
       "mean                    1.879020                           1.767052   \n",
       "std                     0.972245                           1.052906   \n",
       "min                     0.000000                           0.000000   \n",
       "25%                     1.180875                           0.963003   \n",
       "50%                     1.832768                           1.719574   \n",
       "75%                     2.536078                           2.510336   \n",
       "max                     6.023668                           6.146783   \n",
       "\n",
       "             Churn  \n",
       "count  4000.000000  \n",
       "mean      0.265250  \n",
       "std       0.441521  \n",
       "min       0.000000  \n",
       "25%       0.000000  \n",
       "50%       0.000000  \n",
       "75%       1.000000  \n",
       "max       1.000000  "
      ]
     },
     "execution_count": 4,
     "metadata": {},
     "output_type": "execute_result"
    }
   ],
   "source": [
    "df.describe()"
   ]
  },
  {
   "cell_type": "code",
   "execution_count": null,
   "metadata": {},
   "outputs": [],
   "source": []
  }
 ],
 "metadata": {
  "ExecuteTimeLog": [
   {
    "duration": 95,
    "start_time": "2021-06-10T07:21:01.496Z"
   },
   {
    "duration": 706,
    "start_time": "2021-06-10T09:20:49.329Z"
   },
   {
    "duration": 1601,
    "start_time": "2021-06-10T09:20:55.083Z"
   },
   {
    "duration": 25,
    "start_time": "2021-06-10T09:20:57.057Z"
   },
   {
    "duration": 22,
    "start_time": "2021-06-10T09:21:05.712Z"
   },
   {
    "duration": 1322,
    "start_time": "2021-06-11T06:10:11.200Z"
   },
   {
    "duration": 26,
    "start_time": "2021-06-11T06:10:14.166Z"
   },
   {
    "duration": 22,
    "start_time": "2021-06-11T06:10:15.348Z"
   },
   {
    "duration": 16,
    "start_time": "2021-06-11T06:10:37.394Z"
   },
   {
    "duration": 36,
    "start_time": "2021-06-11T06:10:44.631Z"
   },
   {
    "duration": 36,
    "start_time": "2021-06-11T06:13:17.948Z"
   },
   {
    "duration": 5,
    "start_time": "2021-06-11T07:01:27.577Z"
   },
   {
    "duration": 6,
    "start_time": "2021-06-11T07:01:55.525Z"
   },
   {
    "duration": 6,
    "start_time": "2021-06-11T07:11:15.531Z"
   },
   {
    "duration": 6,
    "start_time": "2021-06-11T07:11:50.535Z"
   },
   {
    "duration": 7,
    "start_time": "2021-06-11T07:11:58.141Z"
   },
   {
    "duration": 80,
    "start_time": "2021-06-11T07:18:38.740Z"
   },
   {
    "duration": 4,
    "start_time": "2021-06-11T07:19:11.839Z"
   },
   {
    "duration": 4,
    "start_time": "2021-06-11T07:19:33.900Z"
   },
   {
    "duration": 37,
    "start_time": "2021-06-11T07:19:35.291Z"
   },
   {
    "duration": 3,
    "start_time": "2021-06-11T07:19:44.116Z"
   },
   {
    "duration": 5,
    "start_time": "2021-06-11T07:19:59.375Z"
   },
   {
    "duration": 3,
    "start_time": "2021-06-11T07:20:48.672Z"
   },
   {
    "duration": 4,
    "start_time": "2021-06-11T07:20:51.102Z"
   },
   {
    "duration": 5,
    "start_time": "2021-06-11T07:24:10.560Z"
   },
   {
    "duration": 5,
    "start_time": "2021-06-11T07:24:44.223Z"
   },
   {
    "duration": 6,
    "start_time": "2021-06-11T07:24:46.400Z"
   },
   {
    "duration": 5,
    "start_time": "2021-06-11T07:25:14.312Z"
   },
   {
    "duration": 6,
    "start_time": "2021-06-11T07:25:16.395Z"
   },
   {
    "duration": 5,
    "start_time": "2021-06-11T07:25:29.731Z"
   },
   {
    "duration": 6,
    "start_time": "2021-06-11T07:25:31.333Z"
   },
   {
    "duration": 5,
    "start_time": "2021-06-11T07:25:40.552Z"
   },
   {
    "duration": 5,
    "start_time": "2021-06-11T07:25:43.449Z"
   },
   {
    "duration": 5,
    "start_time": "2021-06-11T07:25:49.512Z"
   },
   {
    "duration": 5,
    "start_time": "2021-06-11T07:25:51.547Z"
   },
   {
    "duration": 5,
    "start_time": "2021-06-11T07:26:20.960Z"
   },
   {
    "duration": 6,
    "start_time": "2021-06-11T07:26:21.565Z"
   },
   {
    "duration": 5,
    "start_time": "2021-06-11T07:26:35.115Z"
   },
   {
    "duration": 37,
    "start_time": "2021-06-11T07:26:36.041Z"
   },
   {
    "duration": 4,
    "start_time": "2021-06-11T07:26:41.083Z"
   },
   {
    "duration": 5,
    "start_time": "2021-06-11T07:26:41.871Z"
   },
   {
    "duration": 5,
    "start_time": "2021-06-11T07:27:00.860Z"
   },
   {
    "duration": 6,
    "start_time": "2021-06-11T07:27:01.547Z"
   },
   {
    "duration": 4,
    "start_time": "2021-06-11T07:27:11.411Z"
   },
   {
    "duration": 38,
    "start_time": "2021-06-11T07:27:12.397Z"
   },
   {
    "duration": 4,
    "start_time": "2021-06-11T07:27:15.690Z"
   },
   {
    "duration": 6,
    "start_time": "2021-06-11T07:27:16.393Z"
   },
   {
    "duration": 6,
    "start_time": "2021-06-11T07:27:49.089Z"
   },
   {
    "duration": 6,
    "start_time": "2021-06-11T07:28:42.176Z"
   },
   {
    "duration": 6,
    "start_time": "2021-06-11T07:28:43.827Z"
   },
   {
    "duration": 5,
    "start_time": "2021-06-11T07:30:35.414Z"
   },
   {
    "duration": 6,
    "start_time": "2021-06-11T07:30:35.905Z"
   },
   {
    "duration": 4,
    "start_time": "2021-06-11T07:31:27.421Z"
   },
   {
    "duration": 6,
    "start_time": "2021-06-11T07:31:27.963Z"
   },
   {
    "duration": 11,
    "start_time": "2021-06-11T07:34:29.182Z"
   },
   {
    "duration": 4,
    "start_time": "2021-06-11T07:54:10.826Z"
   },
   {
    "duration": 67,
    "start_time": "2021-06-11T07:54:33.895Z"
   },
   {
    "duration": 103,
    "start_time": "2021-06-11T08:42:31.911Z"
   },
   {
    "duration": 305,
    "start_time": "2021-06-11T08:53:05.505Z"
   },
   {
    "duration": 322,
    "start_time": "2021-06-11T08:54:16.675Z"
   },
   {
    "duration": 404,
    "start_time": "2021-06-11T08:55:27.714Z"
   },
   {
    "duration": 435,
    "start_time": "2021-06-11T08:58:31.649Z"
   },
   {
    "duration": 397,
    "start_time": "2021-06-11T08:59:22.009Z"
   },
   {
    "duration": 397,
    "start_time": "2021-06-11T08:59:47.127Z"
   },
   {
    "duration": 431,
    "start_time": "2021-06-11T09:00:24.757Z"
   },
   {
    "duration": 498,
    "start_time": "2021-06-11T09:01:01.635Z"
   },
   {
    "duration": 215,
    "start_time": "2021-06-11T09:01:53.280Z"
   },
   {
    "duration": 394,
    "start_time": "2021-06-11T09:02:00.911Z"
   },
   {
    "duration": 429,
    "start_time": "2021-06-11T09:05:09.334Z"
   },
   {
    "duration": 440,
    "start_time": "2021-06-11T09:05:32.954Z"
   },
   {
    "duration": 94,
    "start_time": "2021-06-11T09:05:48.000Z"
   },
   {
    "duration": 461,
    "start_time": "2021-06-11T09:17:47.610Z"
   },
   {
    "duration": 503,
    "start_time": "2021-06-11T09:18:56.823Z"
   },
   {
    "duration": 494,
    "start_time": "2021-06-11T09:19:07.666Z"
   },
   {
    "duration": 602,
    "start_time": "2021-06-11T09:20:32.201Z"
   },
   {
    "duration": 652,
    "start_time": "2021-06-11T09:22:06.965Z"
   },
   {
    "duration": 511,
    "start_time": "2021-06-11T09:22:39.986Z"
   },
   {
    "duration": 71,
    "start_time": "2021-06-11T09:50:29.965Z"
   },
   {
    "duration": 156,
    "start_time": "2021-06-11T09:51:14.503Z"
   },
   {
    "duration": 1438,
    "start_time": "2021-06-11T18:29:04.928Z"
   },
   {
    "duration": 46,
    "start_time": "2021-06-11T18:29:06.369Z"
   },
   {
    "duration": 5,
    "start_time": "2021-06-11T18:29:06.419Z"
   },
   {
    "duration": 12,
    "start_time": "2021-06-11T18:29:06.427Z"
   },
   {
    "duration": 15,
    "start_time": "2021-06-11T18:29:06.442Z"
   },
   {
    "duration": 74,
    "start_time": "2021-06-11T18:29:08.769Z"
   },
   {
    "duration": 68,
    "start_time": "2021-06-11T18:29:33.524Z"
   },
   {
    "duration": 19,
    "start_time": "2021-06-11T19:18:08.698Z"
   },
   {
    "duration": 23,
    "start_time": "2021-06-11T19:18:20.298Z"
   },
   {
    "duration": 12,
    "start_time": "2021-06-11T19:18:29.210Z"
   },
   {
    "duration": 17,
    "start_time": "2021-06-11T19:21:09.253Z"
   },
   {
    "duration": 17,
    "start_time": "2021-06-11T19:21:40.159Z"
   },
   {
    "duration": 461,
    "start_time": "2021-06-11T19:22:44.920Z"
   },
   {
    "duration": 273,
    "start_time": "2021-06-11T19:22:58.931Z"
   },
   {
    "duration": 265,
    "start_time": "2021-06-11T19:23:20.375Z"
   },
   {
    "duration": 10,
    "start_time": "2021-06-11T19:23:37.912Z"
   },
   {
    "duration": 7,
    "start_time": "2021-06-11T19:23:46.022Z"
   },
   {
    "duration": 9,
    "start_time": "2021-06-11T19:24:07.872Z"
   },
   {
    "duration": 23,
    "start_time": "2021-06-11T19:49:51.990Z"
   },
   {
    "duration": 23,
    "start_time": "2021-06-11T19:50:12.651Z"
   },
   {
    "duration": 15,
    "start_time": "2021-06-11T19:50:20.650Z"
   },
   {
    "duration": 15,
    "start_time": "2021-06-11T19:51:33.357Z"
   },
   {
    "duration": 65,
    "start_time": "2021-06-11T19:53:46.014Z"
   },
   {
    "duration": 81,
    "start_time": "2021-06-11T19:54:05.309Z"
   },
   {
    "duration": 65,
    "start_time": "2021-06-11T19:54:16.717Z"
   },
   {
    "duration": 151,
    "start_time": "2021-06-11T19:54:33.254Z"
   },
   {
    "duration": 16,
    "start_time": "2021-06-11T19:54:37.429Z"
   },
   {
    "duration": 24,
    "start_time": "2021-06-11T19:55:08.084Z"
   },
   {
    "duration": 9,
    "start_time": "2021-06-11T19:58:19.465Z"
   },
   {
    "duration": 10,
    "start_time": "2021-06-11T19:58:29.633Z"
   },
   {
    "duration": 296,
    "start_time": "2021-06-11T19:59:01.079Z"
   },
   {
    "duration": 10,
    "start_time": "2021-06-11T19:59:08.353Z"
   },
   {
    "duration": 5,
    "start_time": "2021-06-11T19:59:08.969Z"
   },
   {
    "duration": 13,
    "start_time": "2021-06-11T19:59:19.076Z"
   },
   {
    "duration": 7,
    "start_time": "2021-06-11T20:00:00.471Z"
   },
   {
    "duration": 14,
    "start_time": "2021-06-11T20:03:27.111Z"
   },
   {
    "duration": 5,
    "start_time": "2021-06-11T20:04:03.568Z"
   },
   {
    "duration": 15,
    "start_time": "2021-06-11T20:04:12.541Z"
   },
   {
    "duration": 14,
    "start_time": "2021-06-11T20:05:24.049Z"
   },
   {
    "duration": 28,
    "start_time": "2021-06-11T20:08:14.103Z"
   },
   {
    "duration": 9,
    "start_time": "2021-06-11T20:08:26.753Z"
   },
   {
    "duration": 11,
    "start_time": "2021-06-11T20:11:01.832Z"
   },
   {
    "duration": 15,
    "start_time": "2021-06-11T20:11:02.804Z"
   },
   {
    "duration": 21,
    "start_time": "2021-06-11T20:11:48.075Z"
   },
   {
    "duration": 19,
    "start_time": "2021-06-11T20:13:03.747Z"
   },
   {
    "duration": 12,
    "start_time": "2021-06-11T21:05:03.353Z"
   },
   {
    "duration": 15,
    "start_time": "2021-06-11T21:05:46.668Z"
   },
   {
    "duration": 18,
    "start_time": "2021-06-11T21:07:15.772Z"
   },
   {
    "duration": 18,
    "start_time": "2021-06-11T21:07:29.824Z"
   },
   {
    "duration": 18,
    "start_time": "2021-06-11T21:07:41.108Z"
   },
   {
    "duration": 96,
    "start_time": "2021-06-11T21:25:52.628Z"
   },
   {
    "duration": 5,
    "start_time": "2021-06-11T21:26:14.439Z"
   },
   {
    "duration": 5,
    "start_time": "2021-06-11T21:26:51.044Z"
   },
   {
    "duration": 5,
    "start_time": "2021-06-11T21:31:04.711Z"
   },
   {
    "duration": 331,
    "start_time": "2021-06-11T21:31:32.896Z"
   },
   {
    "duration": 274,
    "start_time": "2021-06-11T21:31:50.379Z"
   },
   {
    "duration": 328,
    "start_time": "2021-06-11T21:32:12.196Z"
   },
   {
    "duration": 84,
    "start_time": "2021-06-11T21:32:52.964Z"
   },
   {
    "duration": 5,
    "start_time": "2021-06-11T21:32:57.646Z"
   },
   {
    "duration": 116,
    "start_time": "2021-06-11T21:33:36.806Z"
   },
   {
    "duration": 75,
    "start_time": "2021-06-11T21:33:59.086Z"
   },
   {
    "duration": 5,
    "start_time": "2021-06-11T21:34:19.578Z"
   },
   {
    "duration": 6,
    "start_time": "2021-06-11T21:34:32.529Z"
   },
   {
    "duration": 80,
    "start_time": "2021-06-11T21:35:04.074Z"
   },
   {
    "duration": 81,
    "start_time": "2021-06-11T21:36:50.818Z"
   },
   {
    "duration": 6,
    "start_time": "2021-06-11T21:37:11.156Z"
   },
   {
    "duration": 72,
    "start_time": "2021-06-11T21:37:25.179Z"
   },
   {
    "duration": 9,
    "start_time": "2021-06-11T21:37:53.329Z"
   },
   {
    "duration": 11,
    "start_time": "2021-06-11T21:38:45.076Z"
   },
   {
    "duration": 89,
    "start_time": "2021-06-11T21:39:13.105Z"
   },
   {
    "duration": 259,
    "start_time": "2021-06-11T21:39:24.439Z"
   },
   {
    "duration": 258,
    "start_time": "2021-06-11T21:39:30.795Z"
   },
   {
    "duration": 269,
    "start_time": "2021-06-11T21:40:38.334Z"
   },
   {
    "duration": 11,
    "start_time": "2021-06-11T21:41:13.231Z"
   },
   {
    "duration": 69,
    "start_time": "2021-06-11T21:41:46.147Z"
   },
   {
    "duration": 68,
    "start_time": "2021-06-11T21:43:06.147Z"
   },
   {
    "duration": 69,
    "start_time": "2021-06-11T21:43:19.057Z"
   },
   {
    "duration": 5,
    "start_time": "2021-06-11T21:43:29.322Z"
   },
   {
    "duration": 45,
    "start_time": "2021-06-11T21:43:29.329Z"
   },
   {
    "duration": 4,
    "start_time": "2021-06-11T21:43:29.377Z"
   },
   {
    "duration": 7,
    "start_time": "2021-06-11T21:43:29.384Z"
   },
   {
    "duration": 11,
    "start_time": "2021-06-11T21:43:29.393Z"
   },
   {
    "duration": 4,
    "start_time": "2021-06-11T21:43:29.406Z"
   },
   {
    "duration": 10,
    "start_time": "2021-06-11T21:43:29.413Z"
   },
   {
    "duration": 11,
    "start_time": "2021-06-11T21:43:36.041Z"
   },
   {
    "duration": 71,
    "start_time": "2021-06-11T21:43:38.554Z"
   },
   {
    "duration": 4,
    "start_time": "2021-06-11T21:45:07.303Z"
   },
   {
    "duration": 11,
    "start_time": "2021-06-11T21:45:08.324Z"
   },
   {
    "duration": 70,
    "start_time": "2021-06-11T21:45:09.903Z"
   },
   {
    "duration": 477,
    "start_time": "2021-06-11T21:45:11.885Z"
   },
   {
    "duration": 16,
    "start_time": "2021-06-11T21:45:13.276Z"
   },
   {
    "duration": 8,
    "start_time": "2021-06-11T21:45:14.717Z"
   },
   {
    "duration": 11,
    "start_time": "2021-06-11T21:45:17.748Z"
   },
   {
    "duration": 14,
    "start_time": "2021-06-11T21:45:18.647Z"
   },
   {
    "duration": 19,
    "start_time": "2021-06-11T21:45:19.006Z"
   },
   {
    "duration": 10,
    "start_time": "2021-06-11T21:45:19.189Z"
   },
   {
    "duration": 19,
    "start_time": "2021-06-11T21:45:22.897Z"
   },
   {
    "duration": 18,
    "start_time": "2021-06-11T21:45:23.933Z"
   },
   {
    "duration": 99,
    "start_time": "2021-06-11T22:03:23.308Z"
   },
   {
    "duration": 504,
    "start_time": "2021-06-11T22:03:31.024Z"
   },
   {
    "duration": 9034,
    "start_time": "2021-06-11T22:04:19.056Z"
   },
   {
    "duration": 644,
    "start_time": "2021-06-11T22:05:11.534Z"
   },
   {
    "duration": 9552,
    "start_time": "2021-06-11T22:08:51.566Z"
   },
   {
    "duration": 9738,
    "start_time": "2021-06-11T22:09:34.494Z"
   },
   {
    "duration": 70,
    "start_time": "2021-06-11T22:12:18.341Z"
   },
   {
    "duration": 1510,
    "start_time": "2021-06-12T06:34:49.184Z"
   },
   {
    "duration": 45,
    "start_time": "2021-06-12T06:34:50.696Z"
   },
   {
    "duration": 5,
    "start_time": "2021-06-12T06:34:50.745Z"
   },
   {
    "duration": 10,
    "start_time": "2021-06-12T06:34:50.753Z"
   },
   {
    "duration": 11,
    "start_time": "2021-06-12T06:34:50.766Z"
   },
   {
    "duration": 5,
    "start_time": "2021-06-12T06:34:50.780Z"
   },
   {
    "duration": 43,
    "start_time": "2021-06-12T06:34:50.787Z"
   },
   {
    "duration": 72,
    "start_time": "2021-06-12T06:34:50.833Z"
   },
   {
    "duration": 503,
    "start_time": "2021-06-12T06:34:50.908Z"
   },
   {
    "duration": 24,
    "start_time": "2021-06-12T06:34:51.414Z"
   },
   {
    "duration": 8,
    "start_time": "2021-06-12T06:34:51.440Z"
   },
   {
    "duration": 16,
    "start_time": "2021-06-12T06:34:51.451Z"
   },
   {
    "duration": 13,
    "start_time": "2021-06-12T06:34:51.469Z"
   },
   {
    "duration": 52,
    "start_time": "2021-06-12T06:34:51.485Z"
   },
   {
    "duration": 18,
    "start_time": "2021-06-12T06:34:54.493Z"
   },
   {
    "duration": 11,
    "start_time": "2021-06-12T06:34:55.061Z"
   },
   {
    "duration": 11,
    "start_time": "2021-06-12T06:36:49.494Z"
   },
   {
    "duration": 21,
    "start_time": "2021-06-12T06:39:39.212Z"
   },
   {
    "duration": 7,
    "start_time": "2021-06-12T06:44:30.757Z"
   },
   {
    "duration": 22,
    "start_time": "2021-06-12T06:45:29.638Z"
   },
   {
    "duration": 27,
    "start_time": "2021-06-12T06:56:08.689Z"
   },
   {
    "duration": 20,
    "start_time": "2021-06-12T06:56:19.951Z"
   },
   {
    "duration": 732,
    "start_time": "2021-06-12T06:57:18.958Z"
   },
   {
    "duration": 22,
    "start_time": "2021-06-12T06:57:47.079Z"
   },
   {
    "duration": 7,
    "start_time": "2021-06-12T07:03:41.680Z"
   },
   {
    "duration": 430,
    "start_time": "2021-06-12T07:04:26.400Z"
   },
   {
    "duration": 282,
    "start_time": "2021-06-12T07:05:30.401Z"
   },
   {
    "duration": 98,
    "start_time": "2021-06-12T07:06:20.634Z"
   },
   {
    "duration": 715,
    "start_time": "2021-06-12T07:06:38.167Z"
   },
   {
    "duration": 25,
    "start_time": "2021-06-12T07:06:47.961Z"
   },
   {
    "duration": 21,
    "start_time": "2021-06-12T07:07:30.000Z"
   },
   {
    "duration": 26,
    "start_time": "2021-06-12T07:07:43.258Z"
   },
   {
    "duration": 93,
    "start_time": "2021-06-12T07:08:43.263Z"
   },
   {
    "duration": 24,
    "start_time": "2021-06-12T07:08:50.334Z"
   },
   {
    "duration": 24,
    "start_time": "2021-06-12T07:09:09.211Z"
   },
   {
    "duration": 37,
    "start_time": "2021-06-12T07:10:09.831Z"
   },
   {
    "duration": 299,
    "start_time": "2021-06-12T07:11:03.667Z"
   },
   {
    "duration": 36,
    "start_time": "2021-06-12T07:11:20.951Z"
   },
   {
    "duration": 36,
    "start_time": "2021-06-12T07:14:05.444Z"
   },
   {
    "duration": 36,
    "start_time": "2021-06-12T07:14:28.522Z"
   },
   {
    "duration": 35,
    "start_time": "2021-06-12T07:14:45.232Z"
   },
   {
    "duration": 37,
    "start_time": "2021-06-12T07:14:52.342Z"
   },
   {
    "duration": 37,
    "start_time": "2021-06-12T07:14:58.031Z"
   },
   {
    "duration": 36,
    "start_time": "2021-06-12T07:15:01.645Z"
   },
   {
    "duration": 34,
    "start_time": "2021-06-12T07:15:06.706Z"
   },
   {
    "duration": 36,
    "start_time": "2021-06-12T07:15:38.078Z"
   },
   {
    "duration": 423,
    "start_time": "2021-06-12T07:16:35.586Z"
   },
   {
    "duration": 286,
    "start_time": "2021-06-12T07:17:04.173Z"
   },
   {
    "duration": 22,
    "start_time": "2021-06-12T07:17:12.061Z"
   },
   {
    "duration": 38,
    "start_time": "2021-06-12T07:17:43.178Z"
   },
   {
    "duration": 62,
    "start_time": "2021-06-12T07:17:55.072Z"
   },
   {
    "duration": 286,
    "start_time": "2021-06-12T07:18:52.937Z"
   },
   {
    "duration": 291,
    "start_time": "2021-06-12T07:19:40.151Z"
   },
   {
    "duration": 277,
    "start_time": "2021-06-12T07:20:02.872Z"
   },
   {
    "duration": 278,
    "start_time": "2021-06-12T07:20:47.971Z"
   },
   {
    "duration": 21,
    "start_time": "2021-06-12T07:21:06.887Z"
   },
   {
    "duration": 35,
    "start_time": "2021-06-12T07:21:18.926Z"
   },
   {
    "duration": 33,
    "start_time": "2021-06-12T07:21:29.268Z"
   },
   {
    "duration": 15,
    "start_time": "2021-06-12T07:21:53.662Z"
   },
   {
    "duration": 101,
    "start_time": "2021-06-12T07:22:03.792Z"
   },
   {
    "duration": 90,
    "start_time": "2021-06-12T07:22:12.014Z"
   },
   {
    "duration": 15,
    "start_time": "2021-06-12T07:22:13.652Z"
   },
   {
    "duration": 33,
    "start_time": "2021-06-12T07:22:24.486Z"
   },
   {
    "duration": 36,
    "start_time": "2021-06-12T07:22:31.285Z"
   },
   {
    "duration": 98,
    "start_time": "2021-06-12T07:23:35.912Z"
   },
   {
    "duration": 91,
    "start_time": "2021-06-12T07:23:55.014Z"
   },
   {
    "duration": 95,
    "start_time": "2021-06-12T07:24:05.108Z"
   },
   {
    "duration": 103,
    "start_time": "2021-06-12T07:24:13.786Z"
   },
   {
    "duration": 42,
    "start_time": "2021-06-12T07:24:42.336Z"
   },
   {
    "duration": 36,
    "start_time": "2021-06-12T07:25:03.120Z"
   },
   {
    "duration": 38,
    "start_time": "2021-06-12T07:25:29.942Z"
   },
   {
    "duration": 267,
    "start_time": "2021-06-12T07:25:59.614Z"
   },
   {
    "duration": 39,
    "start_time": "2021-06-12T07:26:12.606Z"
   },
   {
    "duration": 41,
    "start_time": "2021-06-12T07:27:15.453Z"
   },
   {
    "duration": 54,
    "start_time": "2021-06-12T07:27:30.615Z"
   },
   {
    "duration": 309,
    "start_time": "2021-06-12T07:27:41.218Z"
   },
   {
    "duration": 40,
    "start_time": "2021-06-12T07:28:08.665Z"
   },
   {
    "duration": 90,
    "start_time": "2021-06-12T07:29:58.051Z"
   },
   {
    "duration": 38,
    "start_time": "2021-06-12T07:30:11.850Z"
   },
   {
    "duration": 38,
    "start_time": "2021-06-12T07:30:22.849Z"
   },
   {
    "duration": 38,
    "start_time": "2021-06-12T07:30:29.844Z"
   },
   {
    "duration": 39,
    "start_time": "2021-06-12T07:30:36.672Z"
   },
   {
    "duration": 37,
    "start_time": "2021-06-12T07:30:47.867Z"
   },
   {
    "duration": 104,
    "start_time": "2021-06-12T07:31:20.289Z"
   },
   {
    "duration": 37,
    "start_time": "2021-06-12T07:31:29.928Z"
   },
   {
    "duration": 39,
    "start_time": "2021-06-12T07:31:42.489Z"
   },
   {
    "duration": 43,
    "start_time": "2021-06-12T07:31:47.606Z"
   },
   {
    "duration": 39,
    "start_time": "2021-06-12T07:32:14.427Z"
   },
   {
    "duration": 38,
    "start_time": "2021-06-12T07:32:25.592Z"
   },
   {
    "duration": 43,
    "start_time": "2021-06-12T07:33:30.488Z"
   },
   {
    "duration": 17,
    "start_time": "2021-06-12T07:34:40.765Z"
   },
   {
    "duration": 16,
    "start_time": "2021-06-12T07:35:38.833Z"
   },
   {
    "duration": 95,
    "start_time": "2021-06-12T07:35:51.440Z"
   },
   {
    "duration": 21,
    "start_time": "2021-06-12T07:35:57.267Z"
   },
   {
    "duration": 48,
    "start_time": "2021-06-12T07:36:56.886Z"
   },
   {
    "duration": 37,
    "start_time": "2021-06-12T07:37:09.867Z"
   },
   {
    "duration": 293,
    "start_time": "2021-06-12T07:44:30.179Z"
   },
   {
    "duration": 56,
    "start_time": "2021-06-12T07:44:51.141Z"
   },
   {
    "duration": 293,
    "start_time": "2021-06-12T07:46:22.837Z"
   },
   {
    "duration": 28,
    "start_time": "2021-06-12T07:46:38.389Z"
   },
   {
    "duration": 51,
    "start_time": "2021-06-12T07:46:53.132Z"
   },
   {
    "duration": 56,
    "start_time": "2021-06-12T07:47:36.809Z"
   },
   {
    "duration": 49,
    "start_time": "2021-06-12T07:48:08.703Z"
   },
   {
    "duration": 50,
    "start_time": "2021-06-12T07:49:08.452Z"
   },
   {
    "duration": 42,
    "start_time": "2021-06-12T07:49:28.810Z"
   },
   {
    "duration": 45,
    "start_time": "2021-06-12T07:50:10.192Z"
   },
   {
    "duration": 27,
    "start_time": "2021-06-12T07:50:40.488Z"
   },
   {
    "duration": 45,
    "start_time": "2021-06-12T07:51:16.170Z"
   },
   {
    "duration": 43,
    "start_time": "2021-06-12T07:52:16.069Z"
   },
   {
    "duration": 125,
    "start_time": "2021-06-12T07:52:44.822Z"
   },
   {
    "duration": 62,
    "start_time": "2021-06-12T07:54:11.682Z"
   },
   {
    "duration": 64,
    "start_time": "2021-06-12T07:54:48.678Z"
   },
   {
    "duration": 20,
    "start_time": "2021-06-12T07:55:48.895Z"
   },
   {
    "duration": 298,
    "start_time": "2021-06-12T08:01:07.854Z"
   },
   {
    "duration": 4,
    "start_time": "2021-06-12T08:01:22.174Z"
   },
   {
    "duration": 47,
    "start_time": "2021-06-12T08:01:22.181Z"
   },
   {
    "duration": 5,
    "start_time": "2021-06-12T08:01:22.230Z"
   },
   {
    "duration": 17,
    "start_time": "2021-06-12T08:01:22.237Z"
   },
   {
    "duration": 24,
    "start_time": "2021-06-12T08:01:22.257Z"
   },
   {
    "duration": 5,
    "start_time": "2021-06-12T08:01:22.283Z"
   },
   {
    "duration": 20,
    "start_time": "2021-06-12T08:01:22.292Z"
   },
   {
    "duration": 70,
    "start_time": "2021-06-12T08:01:22.324Z"
   },
   {
    "duration": 538,
    "start_time": "2021-06-12T08:01:22.396Z"
   },
   {
    "duration": 18,
    "start_time": "2021-06-12T08:01:22.938Z"
   },
   {
    "duration": 10,
    "start_time": "2021-06-12T08:01:22.959Z"
   },
   {
    "duration": 264,
    "start_time": "2021-06-12T08:01:25.622Z"
   },
   {
    "duration": 11,
    "start_time": "2021-06-12T08:01:34.928Z"
   },
   {
    "duration": 14,
    "start_time": "2021-06-12T08:01:38.836Z"
   },
   {
    "duration": 2760,
    "start_time": "2021-06-12T08:01:56.877Z"
   },
   {
    "duration": 1230,
    "start_time": "2021-06-12T08:02:01.907Z"
   },
   {
    "duration": 3822,
    "start_time": "2021-06-12T08:02:03.445Z"
   },
   {
    "duration": 12,
    "start_time": "2021-06-12T08:02:27.381Z"
   },
   {
    "duration": 14,
    "start_time": "2021-06-12T08:02:28.404Z"
   },
   {
    "duration": 7,
    "start_time": "2021-06-12T08:02:29.923Z"
   },
   {
    "duration": 20,
    "start_time": "2021-06-12T08:02:32.136Z"
   },
   {
    "duration": 326,
    "start_time": "2021-06-12T12:02:26.519Z"
   },
   {
    "duration": 1488,
    "start_time": "2021-06-12T12:02:41.822Z"
   },
   {
    "duration": 43,
    "start_time": "2021-06-12T12:02:43.313Z"
   },
   {
    "duration": 5,
    "start_time": "2021-06-12T12:02:43.359Z"
   },
   {
    "duration": 8,
    "start_time": "2021-06-12T12:02:43.367Z"
   },
   {
    "duration": 14,
    "start_time": "2021-06-12T12:02:43.378Z"
   },
   {
    "duration": 4,
    "start_time": "2021-06-12T12:02:43.395Z"
   },
   {
    "duration": 12,
    "start_time": "2021-06-12T12:02:43.402Z"
   },
   {
    "duration": 72,
    "start_time": "2021-06-12T12:02:43.455Z"
   },
   {
    "duration": 496,
    "start_time": "2021-06-12T12:02:43.529Z"
   },
   {
    "duration": 30,
    "start_time": "2021-06-12T12:02:44.027Z"
   },
   {
    "duration": 8,
    "start_time": "2021-06-12T12:02:44.059Z"
   },
   {
    "duration": 16,
    "start_time": "2021-06-12T12:02:44.069Z"
   },
   {
    "duration": 14,
    "start_time": "2021-06-12T12:02:44.088Z"
   },
   {
    "duration": 7,
    "start_time": "2021-06-12T12:02:44.105Z"
   },
   {
    "duration": 53,
    "start_time": "2021-06-12T12:02:44.114Z"
   },
   {
    "duration": 1749,
    "start_time": "2021-06-12T12:02:47.535Z"
   },
   {
    "duration": 2053,
    "start_time": "2021-06-12T12:08:21.005Z"
   },
   {
    "duration": 1979,
    "start_time": "2021-06-12T12:08:37.270Z"
   },
   {
    "duration": 1355,
    "start_time": "2021-06-12T12:10:15.383Z"
   },
   {
    "duration": 1679,
    "start_time": "2021-06-12T12:17:04.401Z"
   },
   {
    "duration": 1355,
    "start_time": "2021-06-12T12:18:46.544Z"
   },
   {
    "duration": 1579,
    "start_time": "2021-06-12T12:19:36.808Z"
   },
   {
    "duration": 1643,
    "start_time": "2021-06-12T12:19:46.580Z"
   },
   {
    "duration": 1801,
    "start_time": "2021-06-12T12:20:15.607Z"
   },
   {
    "duration": 1625,
    "start_time": "2021-06-12T12:20:34.292Z"
   },
   {
    "duration": 1681,
    "start_time": "2021-06-12T12:22:28.051Z"
   },
   {
    "duration": 2300,
    "start_time": "2021-06-12T12:22:40.243Z"
   },
   {
    "duration": 2040,
    "start_time": "2021-06-12T12:23:59.904Z"
   },
   {
    "duration": 1455,
    "start_time": "2021-06-12T14:21:21.179Z"
   },
   {
    "duration": 44,
    "start_time": "2021-06-12T14:21:22.637Z"
   },
   {
    "duration": 4,
    "start_time": "2021-06-12T14:21:22.684Z"
   },
   {
    "duration": 8,
    "start_time": "2021-06-12T14:21:22.691Z"
   },
   {
    "duration": 38,
    "start_time": "2021-06-12T14:21:22.701Z"
   },
   {
    "duration": 5,
    "start_time": "2021-06-12T14:21:22.742Z"
   },
   {
    "duration": 14,
    "start_time": "2021-06-12T14:21:22.750Z"
   },
   {
    "duration": 99,
    "start_time": "2021-06-12T14:21:22.768Z"
   },
   {
    "duration": 544,
    "start_time": "2021-06-12T14:21:22.869Z"
   },
   {
    "duration": 28,
    "start_time": "2021-06-12T14:21:23.415Z"
   },
   {
    "duration": 9,
    "start_time": "2021-06-12T14:21:23.447Z"
   },
   {
    "duration": 18,
    "start_time": "2021-06-12T14:21:23.459Z"
   },
   {
    "duration": 13,
    "start_time": "2021-06-12T14:21:23.480Z"
   },
   {
    "duration": 11,
    "start_time": "2021-06-12T14:21:23.523Z"
   },
   {
    "duration": 32,
    "start_time": "2021-06-12T14:21:23.538Z"
   },
   {
    "duration": 1554,
    "start_time": "2021-06-12T14:21:33.096Z"
   },
   {
    "duration": 1377,
    "start_time": "2021-06-12T14:30:08.307Z"
   },
   {
    "duration": 1356,
    "start_time": "2021-06-12T14:31:20.043Z"
   },
   {
    "duration": 1976,
    "start_time": "2021-06-13T05:52:29.341Z"
   },
   {
    "duration": 100,
    "start_time": "2021-06-13T05:52:31.321Z"
   },
   {
    "duration": 6,
    "start_time": "2021-06-13T05:52:31.425Z"
   },
   {
    "duration": 10,
    "start_time": "2021-06-13T05:52:31.435Z"
   },
   {
    "duration": 18,
    "start_time": "2021-06-13T05:52:31.448Z"
   },
   {
    "duration": 6,
    "start_time": "2021-06-13T05:52:31.469Z"
   },
   {
    "duration": 19,
    "start_time": "2021-06-13T05:52:31.478Z"
   },
   {
    "duration": 135,
    "start_time": "2021-06-13T05:52:31.502Z"
   },
   {
    "duration": 645,
    "start_time": "2021-06-13T05:52:31.641Z"
   },
   {
    "duration": 23,
    "start_time": "2021-06-13T05:52:32.289Z"
   },
   {
    "duration": 10,
    "start_time": "2021-06-13T05:52:32.315Z"
   },
   {
    "duration": 42,
    "start_time": "2021-06-13T05:52:32.328Z"
   },
   {
    "duration": 18,
    "start_time": "2021-06-13T05:52:32.373Z"
   },
   {
    "duration": 10,
    "start_time": "2021-06-13T05:52:32.394Z"
   },
   {
    "duration": 68,
    "start_time": "2021-06-13T05:52:32.407Z"
   },
   {
    "duration": 6,
    "start_time": "2021-06-13T05:53:04.698Z"
   },
   {
    "duration": 522,
    "start_time": "2021-06-13T05:58:20.957Z"
   },
   {
    "duration": 289,
    "start_time": "2021-06-13T05:59:06.819Z"
   },
   {
    "duration": 4,
    "start_time": "2021-06-13T05:59:19.961Z"
   },
   {
    "duration": 695,
    "start_time": "2021-06-13T05:59:20.737Z"
   },
   {
    "duration": 6,
    "start_time": "2021-06-13T06:00:11.680Z"
   },
   {
    "duration": 4,
    "start_time": "2021-06-13T06:00:13.657Z"
   },
   {
    "duration": 815,
    "start_time": "2021-06-13T06:00:14.543Z"
   },
   {
    "duration": 4682,
    "start_time": "2021-06-13T06:00:58.357Z"
   },
   {
    "duration": 4467,
    "start_time": "2021-06-13T06:07:43.595Z"
   },
   {
    "duration": 4504,
    "start_time": "2021-06-13T06:08:50.672Z"
   },
   {
    "duration": 5841,
    "start_time": "2021-06-13T06:10:07.248Z"
   },
   {
    "duration": 4478,
    "start_time": "2021-06-13T06:10:58.305Z"
   },
   {
    "duration": 4644,
    "start_time": "2021-06-13T06:11:36.560Z"
   },
   {
    "duration": 5382,
    "start_time": "2021-06-13T06:14:40.107Z"
   },
   {
    "duration": 5345,
    "start_time": "2021-06-13T06:15:07.208Z"
   },
   {
    "duration": 6635,
    "start_time": "2021-06-13T06:16:03.096Z"
   },
   {
    "duration": 6803,
    "start_time": "2021-06-13T06:16:38.358Z"
   },
   {
    "duration": 5437,
    "start_time": "2021-06-13T06:17:26.447Z"
   },
   {
    "duration": 5573,
    "start_time": "2021-06-13T06:19:43.974Z"
   },
   {
    "duration": 5676,
    "start_time": "2021-06-13T06:20:44.905Z"
   },
   {
    "duration": 5647,
    "start_time": "2021-06-13T06:22:01.539Z"
   },
   {
    "duration": 5176,
    "start_time": "2021-06-13T06:24:40.415Z"
   },
   {
    "duration": 5005,
    "start_time": "2021-06-13T06:25:13.597Z"
   },
   {
    "duration": 5685,
    "start_time": "2021-06-13T06:25:39.108Z"
   },
   {
    "duration": 5223,
    "start_time": "2021-06-13T06:26:16.333Z"
   },
   {
    "duration": 6,
    "start_time": "2021-06-13T06:31:45.618Z"
   },
   {
    "duration": 7,
    "start_time": "2021-06-13T06:33:17.020Z"
   },
   {
    "duration": 6,
    "start_time": "2021-06-13T06:33:31.423Z"
   },
   {
    "duration": 4,
    "start_time": "2021-06-13T06:34:11.779Z"
   },
   {
    "duration": 5321,
    "start_time": "2021-06-13T06:38:47.443Z"
   },
   {
    "duration": 3224,
    "start_time": "2021-06-13T06:40:20.198Z"
   },
   {
    "duration": 320,
    "start_time": "2021-06-13T06:46:56.498Z"
   },
   {
    "duration": 288,
    "start_time": "2021-06-13T06:48:25.921Z"
   },
   {
    "duration": 280,
    "start_time": "2021-06-13T06:48:38.193Z"
   },
   {
    "duration": 124,
    "start_time": "2021-06-13T07:41:39.229Z"
   },
   {
    "duration": 1986,
    "start_time": "2021-06-13T07:41:56.354Z"
   },
   {
    "duration": 8,
    "start_time": "2021-06-13T07:45:05.219Z"
   },
   {
    "duration": 8,
    "start_time": "2021-06-13T07:45:40.529Z"
   },
   {
    "duration": 19,
    "start_time": "2021-06-13T07:46:45.918Z"
   },
   {
    "duration": 10,
    "start_time": "2021-06-13T07:47:00.195Z"
   },
   {
    "duration": 11,
    "start_time": "2021-06-13T07:47:46.689Z"
   },
   {
    "duration": 10,
    "start_time": "2021-06-13T07:48:01.335Z"
   },
   {
    "duration": 10,
    "start_time": "2021-06-13T07:55:11.592Z"
   },
   {
    "duration": 10,
    "start_time": "2021-06-13T07:55:15.130Z"
   },
   {
    "duration": 9,
    "start_time": "2021-06-13T07:55:24.194Z"
   },
   {
    "duration": 1547,
    "start_time": "2021-06-13T13:22:00.353Z"
   },
   {
    "duration": 44,
    "start_time": "2021-06-13T13:22:01.903Z"
   },
   {
    "duration": 5,
    "start_time": "2021-06-13T13:22:01.950Z"
   },
   {
    "duration": 19,
    "start_time": "2021-06-13T13:22:01.958Z"
   },
   {
    "duration": 14,
    "start_time": "2021-06-13T13:22:01.980Z"
   },
   {
    "duration": 10,
    "start_time": "2021-06-13T13:22:01.996Z"
   },
   {
    "duration": 27,
    "start_time": "2021-06-13T13:22:02.008Z"
   },
   {
    "duration": 89,
    "start_time": "2021-06-13T13:22:02.039Z"
   },
   {
    "duration": 503,
    "start_time": "2021-06-13T13:22:02.131Z"
   },
   {
    "duration": 18,
    "start_time": "2021-06-13T13:22:02.637Z"
   },
   {
    "duration": 9,
    "start_time": "2021-06-13T13:22:02.657Z"
   },
   {
    "duration": 12,
    "start_time": "2021-06-13T13:22:02.668Z"
   },
   {
    "duration": 45,
    "start_time": "2021-06-13T13:22:02.682Z"
   },
   {
    "duration": 6,
    "start_time": "2021-06-13T13:22:02.730Z"
   },
   {
    "duration": 25,
    "start_time": "2021-06-13T13:22:02.739Z"
   },
   {
    "duration": 6,
    "start_time": "2021-06-13T13:22:02.766Z"
   },
   {
    "duration": 5356,
    "start_time": "2021-06-13T13:22:02.775Z"
   },
   {
    "duration": 3366,
    "start_time": "2021-06-13T13:22:08.133Z"
   },
   {
    "duration": 1379,
    "start_time": "2021-06-13T13:22:11.501Z"
   },
   {
    "duration": 9,
    "start_time": "2021-06-13T13:22:17.785Z"
   },
   {
    "duration": 15,
    "start_time": "2021-06-13T13:57:43.872Z"
   },
   {
    "duration": 15,
    "start_time": "2021-06-13T13:57:53.084Z"
   },
   {
    "duration": 15,
    "start_time": "2021-06-13T13:57:57.520Z"
   },
   {
    "duration": 15,
    "start_time": "2021-06-13T13:59:02.969Z"
   },
   {
    "duration": 15,
    "start_time": "2021-06-13T13:59:22.651Z"
   },
   {
    "duration": 6,
    "start_time": "2021-06-13T13:59:28.408Z"
   },
   {
    "duration": 5,
    "start_time": "2021-06-13T13:59:46.813Z"
   },
   {
    "duration": 5,
    "start_time": "2021-06-13T13:59:58.878Z"
   },
   {
    "duration": 16,
    "start_time": "2021-06-13T14:00:12.157Z"
   },
   {
    "duration": 5,
    "start_time": "2021-06-13T14:00:13.042Z"
   },
   {
    "duration": 6,
    "start_time": "2021-06-13T14:00:14.003Z"
   },
   {
    "duration": 5,
    "start_time": "2021-06-13T14:20:47.880Z"
   },
   {
    "duration": 4,
    "start_time": "2021-06-13T14:23:54.240Z"
   },
   {
    "duration": 5889,
    "start_time": "2021-06-13T14:23:57.854Z"
   },
   {
    "duration": 5,
    "start_time": "2021-06-13T14:24:06.389Z"
   },
   {
    "duration": 5,
    "start_time": "2021-06-13T14:26:28.565Z"
   },
   {
    "duration": 5599,
    "start_time": "2021-06-13T14:26:29.738Z"
   },
   {
    "duration": 5,
    "start_time": "2021-06-13T14:26:45.146Z"
   },
   {
    "duration": 5,
    "start_time": "2021-06-13T14:27:30.050Z"
   },
   {
    "duration": 499,
    "start_time": "2021-06-13T14:27:33.245Z"
   },
   {
    "duration": 4,
    "start_time": "2021-06-13T14:27:48.766Z"
   },
   {
    "duration": 5771,
    "start_time": "2021-06-13T14:27:50.469Z"
   },
   {
    "duration": 6,
    "start_time": "2021-06-13T14:28:04.293Z"
   },
   {
    "duration": 47,
    "start_time": "2021-06-13T14:34:27.288Z"
   },
   {
    "duration": 6,
    "start_time": "2021-06-13T14:37:28.409Z"
   },
   {
    "duration": 11,
    "start_time": "2021-06-13T14:39:03.903Z"
   },
   {
    "duration": 75,
    "start_time": "2021-06-13T14:43:54.853Z"
   },
   {
    "duration": 85,
    "start_time": "2021-06-13T14:44:53.341Z"
   },
   {
    "duration": 12,
    "start_time": "2021-06-13T14:44:55.879Z"
   },
   {
    "duration": 4,
    "start_time": "2021-06-13T14:57:59.449Z"
   },
   {
    "duration": 6206,
    "start_time": "2021-06-13T14:58:38.176Z"
   },
   {
    "duration": 5,
    "start_time": "2021-06-13T15:00:29.383Z"
   },
   {
    "duration": 25318,
    "start_time": "2021-06-13T15:00:30.037Z"
   },
   {
    "duration": 87,
    "start_time": "2021-06-13T15:09:28.788Z"
   },
   {
    "duration": 100,
    "start_time": "2021-06-13T15:10:07.996Z"
   },
   {
    "duration": 164,
    "start_time": "2021-06-13T15:10:35.450Z"
   },
   {
    "duration": 164,
    "start_time": "2021-06-13T15:11:15.773Z"
   },
   {
    "duration": 10,
    "start_time": "2021-06-13T15:12:29.137Z"
   },
   {
    "duration": 349,
    "start_time": "2021-06-13T15:13:10.777Z"
   },
   {
    "duration": 11,
    "start_time": "2021-06-13T15:13:29.194Z"
   },
   {
    "duration": 401,
    "start_time": "2021-06-13T15:14:33.080Z"
   },
   {
    "duration": 11,
    "start_time": "2021-06-13T15:14:54.166Z"
   },
   {
    "duration": 11,
    "start_time": "2021-06-13T15:15:52.634Z"
   },
   {
    "duration": 778,
    "start_time": "2021-06-13T15:16:24.936Z"
   },
   {
    "duration": 10,
    "start_time": "2021-06-13T15:17:01.640Z"
   },
   {
    "duration": 155,
    "start_time": "2021-06-13T15:28:07.970Z"
   },
   {
    "duration": 463,
    "start_time": "2021-06-13T15:28:51.506Z"
   },
   {
    "duration": 67,
    "start_time": "2021-06-13T15:29:01.665Z"
   },
   {
    "duration": 15,
    "start_time": "2021-06-13T15:30:05.491Z"
   },
   {
    "duration": 369,
    "start_time": "2021-06-13T15:39:53.975Z"
   },
   {
    "duration": 408,
    "start_time": "2021-06-13T15:40:01.251Z"
   },
   {
    "duration": 50,
    "start_time": "2021-06-13T15:40:24.678Z"
   },
   {
    "duration": 199,
    "start_time": "2021-06-13T15:40:35.429Z"
   },
   {
    "duration": 112,
    "start_time": "2021-06-13T15:41:01.221Z"
   },
   {
    "duration": 61,
    "start_time": "2021-06-13T15:41:05.771Z"
   },
   {
    "duration": 412,
    "start_time": "2021-06-13T15:41:15.054Z"
   },
   {
    "duration": 372,
    "start_time": "2021-06-13T15:41:18.146Z"
   },
   {
    "duration": 91,
    "start_time": "2021-06-13T15:41:23.337Z"
   },
   {
    "duration": 424,
    "start_time": "2021-06-13T15:42:59.474Z"
   },
   {
    "duration": 412,
    "start_time": "2021-06-13T15:43:22.974Z"
   },
   {
    "duration": 279,
    "start_time": "2021-06-13T15:43:46.569Z"
   },
   {
    "duration": 81,
    "start_time": "2021-06-13T15:44:33.645Z"
   },
   {
    "duration": 149,
    "start_time": "2021-06-13T15:44:45.383Z"
   },
   {
    "duration": 146,
    "start_time": "2021-06-13T15:45:08.082Z"
   },
   {
    "duration": 267,
    "start_time": "2021-06-13T15:45:38.508Z"
   },
   {
    "duration": 512,
    "start_time": "2021-06-13T15:46:12.804Z"
   },
   {
    "duration": 498,
    "start_time": "2021-06-13T15:46:27.293Z"
   },
   {
    "duration": 89,
    "start_time": "2021-06-13T15:46:36.039Z"
   },
   {
    "duration": 386,
    "start_time": "2021-06-13T15:46:45.363Z"
   },
   {
    "duration": 438,
    "start_time": "2021-06-13T15:46:58.131Z"
   },
   {
    "duration": 452,
    "start_time": "2021-06-13T15:47:11.316Z"
   },
   {
    "duration": 109,
    "start_time": "2021-06-13T15:47:31.422Z"
   },
   {
    "duration": 219,
    "start_time": "2021-06-13T15:50:18.808Z"
   },
   {
    "duration": 413,
    "start_time": "2021-06-13T15:50:54.010Z"
   },
   {
    "duration": 67,
    "start_time": "2021-06-13T15:51:11.066Z"
   },
   {
    "duration": 225,
    "start_time": "2021-06-13T15:51:23.002Z"
   },
   {
    "duration": 386,
    "start_time": "2021-06-13T15:51:38.751Z"
   },
   {
    "duration": 44,
    "start_time": "2021-06-13T15:54:17.284Z"
   },
   {
    "duration": 5,
    "start_time": "2021-06-13T15:54:41.374Z"
   },
   {
    "duration": 539,
    "start_time": "2021-06-13T15:56:04.996Z"
   },
   {
    "duration": 420,
    "start_time": "2021-06-13T15:56:35.540Z"
   },
   {
    "duration": 421,
    "start_time": "2021-06-13T15:56:52.213Z"
   },
   {
    "duration": 198,
    "start_time": "2021-06-13T15:57:01.929Z"
   },
   {
    "duration": 456,
    "start_time": "2021-06-13T15:57:19.722Z"
   },
   {
    "duration": 206,
    "start_time": "2021-06-13T15:57:30.426Z"
   },
   {
    "duration": 89,
    "start_time": "2021-06-13T15:58:11.839Z"
   },
   {
    "duration": 111,
    "start_time": "2021-06-13T15:58:20.717Z"
   },
   {
    "duration": 86,
    "start_time": "2021-06-13T15:58:33.642Z"
   },
   {
    "duration": 392,
    "start_time": "2021-06-13T15:58:42.659Z"
   },
   {
    "duration": 47,
    "start_time": "2021-06-13T15:58:57.780Z"
   },
   {
    "duration": 128,
    "start_time": "2021-06-13T16:00:39.105Z"
   },
   {
    "duration": 166,
    "start_time": "2021-06-13T16:00:51.966Z"
   },
   {
    "duration": 229,
    "start_time": "2021-06-13T16:01:22.596Z"
   },
   {
    "duration": 479,
    "start_time": "2021-06-13T16:01:48.691Z"
   },
   {
    "duration": 230,
    "start_time": "2021-06-13T16:01:56.497Z"
   },
   {
    "duration": 143,
    "start_time": "2021-06-13T16:05:37.385Z"
   },
   {
    "duration": 7,
    "start_time": "2021-06-13T16:06:06.631Z"
   },
   {
    "duration": 72,
    "start_time": "2021-06-13T16:06:18.510Z"
   },
   {
    "duration": 7,
    "start_time": "2021-06-13T16:06:39.424Z"
   },
   {
    "duration": 40,
    "start_time": "2021-06-13T16:06:39.433Z"
   },
   {
    "duration": 5,
    "start_time": "2021-06-13T16:06:39.476Z"
   },
   {
    "duration": 10,
    "start_time": "2021-06-13T16:06:39.484Z"
   },
   {
    "duration": 31,
    "start_time": "2021-06-13T16:06:39.496Z"
   },
   {
    "duration": 6,
    "start_time": "2021-06-13T16:06:39.530Z"
   },
   {
    "duration": 13,
    "start_time": "2021-06-13T16:06:39.540Z"
   },
   {
    "duration": 119,
    "start_time": "2021-06-13T16:06:39.556Z"
   },
   {
    "duration": 547,
    "start_time": "2021-06-13T16:06:39.678Z"
   },
   {
    "duration": 17,
    "start_time": "2021-06-13T16:06:40.227Z"
   },
   {
    "duration": 8,
    "start_time": "2021-06-13T16:06:40.246Z"
   },
   {
    "duration": 15,
    "start_time": "2021-06-13T16:06:40.256Z"
   },
   {
    "duration": 14,
    "start_time": "2021-06-13T16:06:40.273Z"
   },
   {
    "duration": 40,
    "start_time": "2021-06-13T16:06:40.289Z"
   },
   {
    "duration": 22,
    "start_time": "2021-06-13T16:06:40.331Z"
   },
   {
    "duration": 5,
    "start_time": "2021-06-13T16:06:40.355Z"
   },
   {
    "duration": 5366,
    "start_time": "2021-06-13T16:06:40.362Z"
   },
   {
    "duration": 3166,
    "start_time": "2021-06-13T16:06:45.730Z"
   },
   {
    "duration": 1483,
    "start_time": "2021-06-13T16:06:48.900Z"
   },
   {
    "duration": 8,
    "start_time": "2021-06-13T16:06:50.386Z"
   },
   {
    "duration": 37,
    "start_time": "2021-06-13T16:06:50.397Z"
   },
   {
    "duration": 5,
    "start_time": "2021-06-13T16:06:50.437Z"
   },
   {
    "duration": 6190,
    "start_time": "2021-06-13T16:06:50.444Z"
   },
   {
    "duration": 7,
    "start_time": "2021-06-13T16:06:56.636Z"
   },
   {
    "duration": 175,
    "start_time": "2021-06-13T16:07:09.562Z"
   },
   {
    "duration": 174,
    "start_time": "2021-06-13T16:07:37.952Z"
   },
   {
    "duration": 73,
    "start_time": "2021-06-13T16:08:43.556Z"
   },
   {
    "duration": 6,
    "start_time": "2021-06-13T16:08:45.036Z"
   },
   {
    "duration": 6,
    "start_time": "2021-06-13T16:08:48.751Z"
   },
   {
    "duration": 4,
    "start_time": "2021-06-13T16:08:56.632Z"
   },
   {
    "duration": 25461,
    "start_time": "2021-06-13T16:08:58.727Z"
   },
   {
    "duration": 159,
    "start_time": "2021-06-13T16:09:25.494Z"
   },
   {
    "duration": 11,
    "start_time": "2021-06-13T16:09:26.752Z"
   },
   {
    "duration": 10,
    "start_time": "2021-06-13T16:09:28.269Z"
   },
   {
    "duration": 177,
    "start_time": "2021-06-13T16:10:59.514Z"
   },
   {
    "duration": 173,
    "start_time": "2021-06-13T16:11:08.643Z"
   },
   {
    "duration": 172,
    "start_time": "2021-06-13T16:11:27.611Z"
   },
   {
    "duration": 164,
    "start_time": "2021-06-13T16:11:45.120Z"
   },
   {
    "duration": 10,
    "start_time": "2021-06-13T16:12:43.759Z"
   },
   {
    "duration": 1634,
    "start_time": "2021-06-13T19:37:09.253Z"
   },
   {
    "duration": 46,
    "start_time": "2021-06-13T19:37:10.890Z"
   },
   {
    "duration": 6,
    "start_time": "2021-06-13T19:37:10.940Z"
   },
   {
    "duration": 8,
    "start_time": "2021-06-13T19:37:10.950Z"
   },
   {
    "duration": 18,
    "start_time": "2021-06-13T19:37:10.987Z"
   },
   {
    "duration": 6,
    "start_time": "2021-06-13T19:37:11.007Z"
   },
   {
    "duration": 20,
    "start_time": "2021-06-13T19:37:11.016Z"
   },
   {
    "duration": 96,
    "start_time": "2021-06-13T19:37:11.040Z"
   },
   {
    "duration": 517,
    "start_time": "2021-06-13T19:37:11.139Z"
   },
   {
    "duration": 29,
    "start_time": "2021-06-13T19:37:11.659Z"
   },
   {
    "duration": 8,
    "start_time": "2021-06-13T19:37:11.690Z"
   },
   {
    "duration": 16,
    "start_time": "2021-06-13T19:37:11.701Z"
   },
   {
    "duration": 13,
    "start_time": "2021-06-13T19:37:11.719Z"
   },
   {
    "duration": 6,
    "start_time": "2021-06-13T19:37:11.734Z"
   },
   {
    "duration": 53,
    "start_time": "2021-06-13T19:37:11.742Z"
   },
   {
    "duration": 5,
    "start_time": "2021-06-13T19:37:11.798Z"
   },
   {
    "duration": 5169,
    "start_time": "2021-06-13T19:37:11.805Z"
   },
   {
    "duration": 3169,
    "start_time": "2021-06-13T19:37:16.978Z"
   },
   {
    "duration": 1336,
    "start_time": "2021-06-13T19:37:20.150Z"
   },
   {
    "duration": 9,
    "start_time": "2021-06-13T19:37:21.489Z"
   },
   {
    "duration": 19,
    "start_time": "2021-06-13T19:37:21.501Z"
   },
   {
    "duration": 4,
    "start_time": "2021-06-13T19:37:21.523Z"
   },
   {
    "duration": 5859,
    "start_time": "2021-06-13T19:37:21.531Z"
   },
   {
    "duration": 5,
    "start_time": "2021-06-13T19:37:27.393Z"
   },
   {
    "duration": 185,
    "start_time": "2021-06-13T19:37:27.401Z"
   },
   {
    "duration": 4,
    "start_time": "2021-06-13T19:37:27.589Z"
   },
   {
    "duration": 23972,
    "start_time": "2021-06-13T19:37:27.596Z"
   },
   {
    "duration": 170,
    "start_time": "2021-06-13T19:37:51.570Z"
   },
   {
    "duration": 667,
    "start_time": "2021-06-13T19:37:51.743Z"
   },
   {
    "duration": 11,
    "start_time": "2021-06-13T19:37:58.903Z"
   },
   {
    "duration": 754,
    "start_time": "2021-06-13T19:43:01.421Z"
   },
   {
    "duration": 698,
    "start_time": "2021-06-13T19:43:28.344Z"
   },
   {
    "duration": 6,
    "start_time": "2021-06-13T19:44:08.871Z"
   },
   {
    "duration": 6,
    "start_time": "2021-06-13T19:44:18.768Z"
   },
   {
    "duration": 6,
    "start_time": "2021-06-13T19:44:38.548Z"
   },
   {
    "duration": 7,
    "start_time": "2021-06-13T19:45:11.350Z"
   },
   {
    "duration": 450,
    "start_time": "2021-06-13T19:45:25.504Z"
   },
   {
    "duration": 286,
    "start_time": "2021-06-13T19:45:39.782Z"
   },
   {
    "duration": 306,
    "start_time": "2021-06-13T19:45:50.590Z"
   },
   {
    "duration": 7,
    "start_time": "2021-06-13T19:46:11.232Z"
   },
   {
    "duration": 324,
    "start_time": "2021-06-13T19:46:23.615Z"
   },
   {
    "duration": 300,
    "start_time": "2021-06-13T19:46:32.294Z"
   },
   {
    "duration": 5,
    "start_time": "2021-06-13T19:46:47.181Z"
   },
   {
    "duration": 6,
    "start_time": "2021-06-13T19:48:32.560Z"
   },
   {
    "duration": 5,
    "start_time": "2021-06-13T19:49:38.837Z"
   },
   {
    "duration": 312,
    "start_time": "2021-06-13T19:50:18.470Z"
   },
   {
    "duration": 4,
    "start_time": "2021-06-13T19:50:31.537Z"
   },
   {
    "duration": 807,
    "start_time": "2021-06-13T19:51:05.210Z"
   },
   {
    "duration": 5,
    "start_time": "2021-06-13T19:52:25.173Z"
   },
   {
    "duration": 761,
    "start_time": "2021-06-13T19:52:32.669Z"
   },
   {
    "duration": 927,
    "start_time": "2021-06-13T19:53:07.934Z"
   },
   {
    "duration": 652,
    "start_time": "2021-06-13T19:53:30.571Z"
   },
   {
    "duration": 846,
    "start_time": "2021-06-13T19:54:00.702Z"
   },
   {
    "duration": 718,
    "start_time": "2021-06-13T19:54:33.655Z"
   },
   {
    "duration": 739,
    "start_time": "2021-06-13T19:54:56.119Z"
   },
   {
    "duration": 806,
    "start_time": "2021-06-13T19:55:06.165Z"
   },
   {
    "duration": 731,
    "start_time": "2021-06-13T19:55:58.125Z"
   },
   {
    "duration": 692,
    "start_time": "2021-06-13T19:56:08.906Z"
   },
   {
    "duration": 490,
    "start_time": "2021-06-13T19:56:33.060Z"
   },
   {
    "duration": 665,
    "start_time": "2021-06-13T19:56:46.794Z"
   },
   {
    "duration": 679,
    "start_time": "2021-06-13T19:56:53.586Z"
   },
   {
    "duration": 523,
    "start_time": "2021-06-13T19:57:02.919Z"
   },
   {
    "duration": 480,
    "start_time": "2021-06-13T19:57:17.615Z"
   },
   {
    "duration": 961,
    "start_time": "2021-06-13T19:57:48.868Z"
   },
   {
    "duration": 1037,
    "start_time": "2021-06-13T19:59:54.062Z"
   },
   {
    "duration": 882,
    "start_time": "2021-06-13T20:00:13.047Z"
   },
   {
    "duration": 1006,
    "start_time": "2021-06-13T20:00:55.231Z"
   },
   {
    "duration": 992,
    "start_time": "2021-06-13T20:01:58.651Z"
   },
   {
    "duration": 1403,
    "start_time": "2021-06-13T20:06:53.446Z"
   },
   {
    "duration": 6,
    "start_time": "2021-06-13T20:07:04.057Z"
   },
   {
    "duration": 309,
    "start_time": "2021-06-13T20:07:15.830Z"
   },
   {
    "duration": 306,
    "start_time": "2021-06-13T20:07:25.776Z"
   },
   {
    "duration": 5,
    "start_time": "2021-06-13T20:07:56.521Z"
   },
   {
    "duration": 5,
    "start_time": "2021-06-13T20:08:06.042Z"
   },
   {
    "duration": 6,
    "start_time": "2021-06-13T20:08:31.233Z"
   },
   {
    "duration": 6,
    "start_time": "2021-06-13T20:09:17.225Z"
   },
   {
    "duration": 1507,
    "start_time": "2021-06-13T20:11:01.517Z"
   },
   {
    "duration": 1521,
    "start_time": "2021-06-13T20:35:01.550Z"
   },
   {
    "duration": 27,
    "start_time": "2021-06-13T20:40:22.092Z"
   },
   {
    "duration": 8,
    "start_time": "2021-06-13T20:40:38.642Z"
   },
   {
    "duration": 7,
    "start_time": "2021-06-13T20:40:54.124Z"
   },
   {
    "duration": 16,
    "start_time": "2021-06-13T20:41:25.372Z"
   },
   {
    "duration": 5,
    "start_time": "2021-06-13T20:42:48.823Z"
   },
   {
    "duration": 4,
    "start_time": "2021-06-13T20:43:56.424Z"
   },
   {
    "duration": 4458,
    "start_time": "2021-06-13T20:43:57.137Z"
   },
   {
    "duration": 120,
    "start_time": "2021-06-13T20:44:19.370Z"
   },
   {
    "duration": 7,
    "start_time": "2021-06-13T20:44:30.974Z"
   },
   {
    "duration": 5,
    "start_time": "2021-06-13T20:47:15.010Z"
   },
   {
    "duration": 24722,
    "start_time": "2021-06-13T20:47:35.977Z"
   },
   {
    "duration": 306,
    "start_time": "2021-06-13T20:48:09.781Z"
   },
   {
    "duration": 8,
    "start_time": "2021-06-13T20:48:12.928Z"
   },
   {
    "duration": 6,
    "start_time": "2021-06-13T20:49:27.504Z"
   },
   {
    "duration": 42,
    "start_time": "2021-06-13T20:49:27.513Z"
   },
   {
    "duration": 5,
    "start_time": "2021-06-13T20:49:27.558Z"
   },
   {
    "duration": 9,
    "start_time": "2021-06-13T20:49:27.566Z"
   },
   {
    "duration": 13,
    "start_time": "2021-06-13T20:49:27.586Z"
   },
   {
    "duration": 6,
    "start_time": "2021-06-13T20:49:27.603Z"
   },
   {
    "duration": 13,
    "start_time": "2021-06-13T20:49:27.612Z"
   },
   {
    "duration": 117,
    "start_time": "2021-06-13T20:49:27.628Z"
   },
   {
    "duration": 508,
    "start_time": "2021-06-13T20:49:27.749Z"
   },
   {
    "duration": 28,
    "start_time": "2021-06-13T20:49:28.259Z"
   },
   {
    "duration": 8,
    "start_time": "2021-06-13T20:49:28.289Z"
   },
   {
    "duration": 13,
    "start_time": "2021-06-13T20:49:28.299Z"
   },
   {
    "duration": 13,
    "start_time": "2021-06-13T20:49:28.315Z"
   },
   {
    "duration": 6,
    "start_time": "2021-06-13T20:49:28.331Z"
   },
   {
    "duration": 57,
    "start_time": "2021-06-13T20:49:28.340Z"
   },
   {
    "duration": 11,
    "start_time": "2021-06-13T20:49:28.399Z"
   },
   {
    "duration": 5155,
    "start_time": "2021-06-13T20:49:28.412Z"
   },
   {
    "duration": 3539,
    "start_time": "2021-06-13T20:49:33.570Z"
   },
   {
    "duration": 1399,
    "start_time": "2021-06-13T20:49:37.113Z"
   },
   {
    "duration": 9,
    "start_time": "2021-06-13T20:49:38.515Z"
   },
   {
    "duration": 21,
    "start_time": "2021-06-13T20:49:38.526Z"
   },
   {
    "duration": 6,
    "start_time": "2021-06-13T20:49:38.550Z"
   },
   {
    "duration": 5641,
    "start_time": "2021-06-13T20:49:38.559Z"
   },
   {
    "duration": 5,
    "start_time": "2021-06-13T20:49:44.203Z"
   },
   {
    "duration": 84,
    "start_time": "2021-06-13T20:49:44.210Z"
   },
   {
    "duration": 5,
    "start_time": "2021-06-13T20:49:44.387Z"
   },
   {
    "duration": 25231,
    "start_time": "2021-06-13T20:49:44.395Z"
   },
   {
    "duration": 24513,
    "start_time": "2021-06-13T20:50:15.477Z"
   },
   {
    "duration": 293,
    "start_time": "2021-06-13T20:50:43.462Z"
   },
   {
    "duration": 11,
    "start_time": "2021-06-13T20:50:45.114Z"
   },
   {
    "duration": 968,
    "start_time": "2021-06-13T20:50:50.257Z"
   },
   {
    "duration": 15,
    "start_time": "2021-06-13T20:50:54.537Z"
   },
   {
    "duration": 6,
    "start_time": "2021-06-13T20:50:56.732Z"
   },
   {
    "duration": 4494,
    "start_time": "2021-06-13T20:50:58.596Z"
   },
   {
    "duration": 93,
    "start_time": "2021-06-13T20:51:03.093Z"
   },
   {
    "duration": 5,
    "start_time": "2021-06-13T20:51:06.205Z"
   },
   {
    "duration": 23721,
    "start_time": "2021-06-13T20:51:07.907Z"
   },
   {
    "duration": 385,
    "start_time": "2021-06-13T20:52:02.093Z"
   },
   {
    "duration": 10,
    "start_time": "2021-06-13T20:53:14.295Z"
   },
   {
    "duration": 873,
    "start_time": "2021-06-13T20:54:32.503Z"
   },
   {
    "duration": 1575,
    "start_time": "2021-06-13T21:17:48.734Z"
   },
   {
    "duration": 3,
    "start_time": "2021-06-13T21:43:05.550Z"
   },
   {
    "duration": 10,
    "start_time": "2021-06-13T22:11:05.162Z"
   },
   {
    "duration": 17,
    "start_time": "2021-06-13T22:11:16.206Z"
   },
   {
    "duration": 10,
    "start_time": "2021-06-13T22:11:22.000Z"
   },
   {
    "duration": 10,
    "start_time": "2021-06-13T22:12:02.698Z"
   },
   {
    "duration": 6,
    "start_time": "2021-06-13T22:14:53.984Z"
   },
   {
    "duration": 143341,
    "start_time": "2021-06-13T22:15:00.586Z"
   },
   {
    "duration": 139418,
    "start_time": "2021-06-13T22:18:48.896Z"
   },
   {
    "duration": 141881,
    "start_time": "2021-06-13T22:21:28.519Z"
   },
   {
    "duration": 7654,
    "start_time": "2021-06-13T22:24:41.412Z"
   },
   {
    "duration": 7737,
    "start_time": "2021-06-13T22:25:38.096Z"
   },
   {
    "duration": 7615,
    "start_time": "2021-06-13T22:30:32.735Z"
   },
   {
    "duration": 7,
    "start_time": "2021-06-13T22:35:14.756Z"
   },
   {
    "duration": 21,
    "start_time": "2021-06-13T22:36:13.547Z"
   },
   {
    "duration": 19,
    "start_time": "2021-06-13T22:36:25.811Z"
   },
   {
    "duration": 21,
    "start_time": "2021-06-13T22:36:33.650Z"
   },
   {
    "duration": 18,
    "start_time": "2021-06-13T22:37:55.226Z"
   },
   {
    "duration": 286,
    "start_time": "2021-06-13T22:39:52.814Z"
   },
   {
    "duration": 343,
    "start_time": "2021-06-13T22:41:16.707Z"
   },
   {
    "duration": 334,
    "start_time": "2021-06-13T22:41:40.511Z"
   },
   {
    "duration": 319,
    "start_time": "2021-06-13T22:43:09.637Z"
   },
   {
    "duration": 26,
    "start_time": "2021-06-13T22:54:45.658Z"
   },
   {
    "duration": 1877,
    "start_time": "2021-06-13T22:56:19.515Z"
   },
   {
    "duration": 31,
    "start_time": "2021-06-13T22:58:22.155Z"
   },
   {
    "duration": 5,
    "start_time": "2021-06-13T23:01:29.886Z"
   },
   {
    "duration": 21,
    "start_time": "2021-06-13T23:02:01.221Z"
   },
   {
    "duration": 9,
    "start_time": "2021-06-13T23:02:23.943Z"
   },
   {
    "duration": 9,
    "start_time": "2021-06-13T23:03:00.198Z"
   },
   {
    "duration": 100,
    "start_time": "2021-06-13T23:14:42.837Z"
   },
   {
    "duration": 525,
    "start_time": "2021-06-13T23:15:36.950Z"
   },
   {
    "duration": 22,
    "start_time": "2021-06-13T23:15:44.098Z"
   },
   {
    "duration": 10,
    "start_time": "2021-06-13T23:21:24.807Z"
   },
   {
    "duration": 10,
    "start_time": "2021-06-13T23:21:59.735Z"
   },
   {
    "duration": 9,
    "start_time": "2021-06-13T23:22:13.509Z"
   },
   {
    "duration": 9,
    "start_time": "2021-06-13T23:24:37.216Z"
   },
   {
    "duration": 12,
    "start_time": "2021-06-13T23:25:29.798Z"
   },
   {
    "duration": 12,
    "start_time": "2021-06-13T23:27:52.250Z"
   },
   {
    "duration": 12,
    "start_time": "2021-06-13T23:28:08.343Z"
   },
   {
    "duration": 22,
    "start_time": "2021-06-13T23:28:26.201Z"
   },
   {
    "duration": 10,
    "start_time": "2021-06-13T23:28:41.339Z"
   },
   {
    "duration": 332,
    "start_time": "2021-06-13T23:28:49.128Z"
   },
   {
    "duration": 11,
    "start_time": "2021-06-13T23:29:26.078Z"
   },
   {
    "duration": 10,
    "start_time": "2021-06-13T23:29:43.536Z"
   },
   {
    "duration": 23,
    "start_time": "2021-06-13T23:29:49.035Z"
   },
   {
    "duration": 18,
    "start_time": "2021-06-13T23:30:06.857Z"
   },
   {
    "duration": 22,
    "start_time": "2021-06-13T23:32:23.230Z"
   },
   {
    "duration": 24,
    "start_time": "2021-06-13T23:33:00.351Z"
   },
   {
    "duration": 12,
    "start_time": "2021-06-13T23:33:39.629Z"
   },
   {
    "duration": 24,
    "start_time": "2021-06-13T23:33:50.107Z"
   },
   {
    "duration": 11,
    "start_time": "2021-06-13T23:34:08.690Z"
   },
   {
    "duration": 23,
    "start_time": "2021-06-13T23:34:15.514Z"
   },
   {
    "duration": 13,
    "start_time": "2021-06-13T23:34:51.754Z"
   },
   {
    "duration": 324,
    "start_time": "2021-06-13T23:36:03.112Z"
   },
   {
    "duration": 336,
    "start_time": "2021-06-13T23:37:57.035Z"
   },
   {
    "duration": 529,
    "start_time": "2021-06-13T23:38:44.959Z"
   },
   {
    "duration": 24,
    "start_time": "2021-06-13T23:39:05.115Z"
   },
   {
    "duration": 326,
    "start_time": "2021-06-13T23:39:43.679Z"
   },
   {
    "duration": 321,
    "start_time": "2021-06-13T23:40:35.200Z"
   },
   {
    "duration": 328,
    "start_time": "2021-06-13T23:40:45.948Z"
   },
   {
    "duration": 330,
    "start_time": "2021-06-13T23:41:32.179Z"
   },
   {
    "duration": 320,
    "start_time": "2021-06-13T23:41:59.308Z"
   },
   {
    "duration": 20,
    "start_time": "2021-06-13T23:42:28.257Z"
   },
   {
    "duration": 4,
    "start_time": "2021-06-13T23:48:41.287Z"
   },
   {
    "duration": 6,
    "start_time": "2021-06-13T23:48:44.954Z"
   },
   {
    "duration": 311,
    "start_time": "2021-06-13T23:48:58.895Z"
   },
   {
    "duration": 302,
    "start_time": "2021-06-13T23:49:05.169Z"
   },
   {
    "duration": 7,
    "start_time": "2021-06-13T23:49:10.098Z"
   },
   {
    "duration": 7,
    "start_time": "2021-06-13T23:49:20.550Z"
   },
   {
    "duration": 7,
    "start_time": "2021-06-13T23:49:46.246Z"
   },
   {
    "duration": 351,
    "start_time": "2021-06-13T23:49:59.853Z"
   },
   {
    "duration": 317,
    "start_time": "2021-06-13T23:50:22.618Z"
   },
   {
    "duration": 318,
    "start_time": "2021-06-13T23:50:47.506Z"
   },
   {
    "duration": 627,
    "start_time": "2021-06-13T23:51:29.288Z"
   },
   {
    "duration": 346,
    "start_time": "2021-06-13T23:51:35.834Z"
   },
   {
    "duration": 344,
    "start_time": "2021-06-13T23:52:06.424Z"
   },
   {
    "duration": 621,
    "start_time": "2021-06-13T23:52:44.214Z"
   },
   {
    "duration": 348,
    "start_time": "2021-06-13T23:52:51.756Z"
   },
   {
    "duration": 599,
    "start_time": "2021-06-13T23:53:11.455Z"
   },
   {
    "duration": 335,
    "start_time": "2021-06-13T23:53:21.514Z"
   },
   {
    "duration": 548,
    "start_time": "2021-06-13T23:55:23.984Z"
   },
   {
    "duration": 346,
    "start_time": "2021-06-13T23:55:42.065Z"
   },
   {
    "duration": 318,
    "start_time": "2021-06-13T23:55:48.859Z"
   },
   {
    "duration": 347,
    "start_time": "2021-06-14T00:01:39.041Z"
   },
   {
    "duration": 558,
    "start_time": "2021-06-14T00:02:00.463Z"
   },
   {
    "duration": 111,
    "start_time": "2021-06-14T00:02:51.101Z"
   },
   {
    "duration": 852,
    "start_time": "2021-06-14T00:02:59.965Z"
   },
   {
    "duration": 347,
    "start_time": "2021-06-14T00:03:15.613Z"
   },
   {
    "duration": 1496,
    "start_time": "2021-06-14T00:03:37.068Z"
   },
   {
    "duration": 1480,
    "start_time": "2021-06-14T00:07:24.113Z"
   },
   {
    "duration": 376,
    "start_time": "2021-06-14T00:07:40.438Z"
   },
   {
    "duration": 5,
    "start_time": "2021-06-14T00:07:59.545Z"
   },
   {
    "duration": 6,
    "start_time": "2021-06-14T00:08:10.949Z"
   },
   {
    "duration": 311,
    "start_time": "2021-06-14T00:08:22.138Z"
   },
   {
    "duration": 880,
    "start_time": "2021-06-14T00:17:32.459Z"
   },
   {
    "duration": 781,
    "start_time": "2021-06-14T00:17:58.224Z"
   },
   {
    "duration": 358,
    "start_time": "2021-06-14T00:22:17.133Z"
   },
   {
    "duration": 870,
    "start_time": "2021-06-14T00:27:16.579Z"
   },
   {
    "duration": 859,
    "start_time": "2021-06-14T00:29:03.331Z"
   },
   {
    "duration": 326,
    "start_time": "2021-06-14T00:29:24.483Z"
   },
   {
    "duration": 3,
    "start_time": "2021-06-14T00:30:56.849Z"
   },
   {
    "duration": 345,
    "start_time": "2021-06-14T01:11:31.886Z"
   },
   {
    "duration": 39580,
    "start_time": "2021-06-14T01:17:52.554Z"
   },
   {
    "duration": 27805,
    "start_time": "2021-06-14T01:19:34.942Z"
   },
   {
    "duration": 18481,
    "start_time": "2021-06-14T01:20:34.040Z"
   },
   {
    "duration": 113894,
    "start_time": "2021-06-14T01:30:58.202Z"
   },
   {
    "duration": 345,
    "start_time": "2021-06-14T01:33:03.699Z"
   },
   {
    "duration": 365,
    "start_time": "2021-06-14T01:33:33.873Z"
   },
   {
    "duration": 310,
    "start_time": "2021-06-14T01:33:45.681Z"
   },
   {
    "duration": 290,
    "start_time": "2021-06-14T01:34:46.479Z"
   },
   {
    "duration": 2522,
    "start_time": "2021-06-14T01:34:55.925Z"
   },
   {
    "duration": 2370,
    "start_time": "2021-06-14T01:35:01.578Z"
   },
   {
    "duration": 325,
    "start_time": "2021-06-14T01:38:33.825Z"
   },
   {
    "duration": 5151,
    "start_time": "2021-06-14T01:38:49.346Z"
   },
   {
    "duration": 335,
    "start_time": "2021-06-14T01:42:05.734Z"
   },
   {
    "duration": 307,
    "start_time": "2021-06-14T01:42:43.508Z"
   },
   {
    "duration": 3455,
    "start_time": "2021-06-14T01:44:37.048Z"
   },
   {
    "duration": 3108,
    "start_time": "2021-06-14T01:45:09.616Z"
   },
   {
    "duration": 2715,
    "start_time": "2021-06-14T01:45:24.977Z"
   },
   {
    "duration": 2917,
    "start_time": "2021-06-14T01:45:52.870Z"
   },
   {
    "duration": 2808,
    "start_time": "2021-06-14T01:52:56.619Z"
   },
   {
    "duration": 2631,
    "start_time": "2021-06-14T01:54:17.273Z"
   },
   {
    "duration": 2387,
    "start_time": "2021-06-14T01:56:10.817Z"
   },
   {
    "duration": 6,
    "start_time": "2021-06-14T01:58:06.348Z"
   },
   {
    "duration": 106,
    "start_time": "2021-06-14T01:58:20.259Z"
   },
   {
    "duration": 6,
    "start_time": "2021-06-14T01:58:26.708Z"
   },
   {
    "duration": 6,
    "start_time": "2021-06-14T01:58:37.323Z"
   },
   {
    "duration": 5,
    "start_time": "2021-06-14T01:58:46.117Z"
   },
   {
    "duration": 5,
    "start_time": "2021-06-14T01:59:02.137Z"
   },
   {
    "duration": 2755,
    "start_time": "2021-06-14T01:59:29.637Z"
   },
   {
    "duration": 330,
    "start_time": "2021-06-14T01:59:50.811Z"
   },
   {
    "duration": 2202,
    "start_time": "2021-06-14T02:00:23.354Z"
   },
   {
    "duration": 2516,
    "start_time": "2021-06-14T02:01:16.421Z"
   },
   {
    "duration": 2702,
    "start_time": "2021-06-14T02:06:57.710Z"
   },
   {
    "duration": 2439,
    "start_time": "2021-06-14T02:07:48.739Z"
   },
   {
    "duration": 2075,
    "start_time": "2021-06-14T02:08:44.400Z"
   },
   {
    "duration": 2654,
    "start_time": "2021-06-14T02:09:58.526Z"
   },
   {
    "duration": 2421,
    "start_time": "2021-06-14T02:10:14.560Z"
   },
   {
    "duration": 2367,
    "start_time": "2021-06-14T02:11:18.277Z"
   },
   {
    "duration": 2575,
    "start_time": "2021-06-14T02:12:18.442Z"
   },
   {
    "duration": 2437,
    "start_time": "2021-06-14T02:13:35.851Z"
   },
   {
    "duration": 2493,
    "start_time": "2021-06-14T02:15:28.828Z"
   },
   {
    "duration": 2447,
    "start_time": "2021-06-14T02:16:19.170Z"
   },
   {
    "duration": 2227,
    "start_time": "2021-06-14T02:16:33.691Z"
   },
   {
    "duration": 2550,
    "start_time": "2021-06-14T02:16:57.738Z"
   },
   {
    "duration": 2776,
    "start_time": "2021-06-14T02:17:08.867Z"
   },
   {
    "duration": 1728,
    "start_time": "2021-06-14T08:07:34.067Z"
   },
   {
    "duration": 42,
    "start_time": "2021-06-14T08:07:35.798Z"
   },
   {
    "duration": 5,
    "start_time": "2021-06-14T08:07:35.844Z"
   },
   {
    "duration": 21,
    "start_time": "2021-06-14T08:07:35.851Z"
   },
   {
    "duration": 14,
    "start_time": "2021-06-14T08:07:35.874Z"
   },
   {
    "duration": 19,
    "start_time": "2021-06-14T08:07:35.890Z"
   },
   {
    "duration": 23,
    "start_time": "2021-06-14T08:07:35.911Z"
   },
   {
    "duration": 86,
    "start_time": "2021-06-14T08:07:35.938Z"
   },
   {
    "duration": 17,
    "start_time": "2021-06-14T08:07:36.027Z"
   },
   {
    "duration": 8,
    "start_time": "2021-06-14T08:07:36.046Z"
   },
   {
    "duration": 19,
    "start_time": "2021-06-14T08:07:36.056Z"
   },
   {
    "duration": 40,
    "start_time": "2021-06-14T08:07:36.078Z"
   },
   {
    "duration": 6,
    "start_time": "2021-06-14T08:07:36.120Z"
   },
   {
    "duration": 32,
    "start_time": "2021-06-14T08:07:36.129Z"
   },
   {
    "duration": 5,
    "start_time": "2021-06-14T08:07:36.163Z"
   },
   {
    "duration": 5444,
    "start_time": "2021-06-14T08:07:36.171Z"
   },
   {
    "duration": 3282,
    "start_time": "2021-06-14T08:07:41.619Z"
   },
   {
    "duration": 1359,
    "start_time": "2021-06-14T08:07:44.904Z"
   },
   {
    "duration": 12,
    "start_time": "2021-06-14T08:07:46.266Z"
   },
   {
    "duration": 39,
    "start_time": "2021-06-14T08:07:46.281Z"
   },
   {
    "duration": 6,
    "start_time": "2021-06-14T08:07:46.322Z"
   },
   {
    "duration": 5485,
    "start_time": "2021-06-14T08:07:46.331Z"
   },
   {
    "duration": 6,
    "start_time": "2021-06-14T08:07:51.821Z"
   },
   {
    "duration": 84,
    "start_time": "2021-06-14T08:07:51.830Z"
   },
   {
    "duration": 95,
    "start_time": "2021-06-14T08:07:51.917Z"
   },
   {
    "duration": 25114,
    "start_time": "2021-06-14T08:07:52.014Z"
   },
   {
    "duration": 415,
    "start_time": "2021-06-14T08:08:17.131Z"
   },
   {
    "duration": 860,
    "start_time": "2021-06-14T08:08:17.549Z"
   },
   {
    "duration": 1088,
    "start_time": "2021-06-14T08:08:18.412Z"
   },
   {
    "duration": 19,
    "start_time": "2021-06-14T08:08:19.503Z"
   },
   {
    "duration": 6,
    "start_time": "2021-06-14T08:08:19.525Z"
   },
   {
    "duration": 4377,
    "start_time": "2021-06-14T08:08:19.534Z"
   },
   {
    "duration": 96,
    "start_time": "2021-06-14T08:08:23.914Z"
   },
   {
    "duration": 97,
    "start_time": "2021-06-14T08:08:24.013Z"
   },
   {
    "duration": 25162,
    "start_time": "2021-06-14T08:08:24.113Z"
   },
   {
    "duration": 387,
    "start_time": "2021-06-14T08:08:49.277Z"
   },
   {
    "duration": 9,
    "start_time": "2021-06-14T08:08:49.666Z"
   },
   {
    "duration": 937,
    "start_time": "2021-06-14T08:08:49.677Z"
   },
   {
    "duration": 10,
    "start_time": "2021-06-14T08:08:50.616Z"
   },
   {
    "duration": 141104,
    "start_time": "2021-06-14T08:08:50.628Z"
   },
   {
    "duration": 7886,
    "start_time": "2021-06-14T08:11:11.735Z"
   },
   {
    "duration": 18,
    "start_time": "2021-06-14T08:11:19.623Z"
   },
   {
    "duration": 342,
    "start_time": "2021-06-14T08:11:19.643Z"
   },
   {
    "duration": 1834,
    "start_time": "2021-06-14T08:11:19.988Z"
   },
   {
    "duration": 5,
    "start_time": "2021-06-14T08:11:21.825Z"
   },
   {
    "duration": 15,
    "start_time": "2021-06-14T08:11:21.832Z"
   },
   {
    "duration": 9,
    "start_time": "2021-06-14T08:11:21.849Z"
   },
   {
    "duration": 50,
    "start_time": "2021-06-14T08:11:21.860Z"
   },
   {
    "duration": 358,
    "start_time": "2021-06-14T08:11:21.913Z"
   },
   {
    "duration": 2639,
    "start_time": "2021-06-14T08:11:22.273Z"
   },
   {
    "duration": 6,
    "start_time": "2021-06-14T08:20:02.927Z"
   },
   {
    "duration": 3641,
    "start_time": "2021-06-14T08:21:10.003Z"
   },
   {
    "duration": 6,
    "start_time": "2021-06-14T08:22:01.574Z"
   },
   {
    "duration": 6,
    "start_time": "2021-06-14T08:22:17.718Z"
   },
   {
    "duration": 20,
    "start_time": "2021-06-14T08:22:27.933Z"
   },
   {
    "duration": 3913,
    "start_time": "2021-06-14T08:22:46.499Z"
   },
   {
    "duration": 2890,
    "start_time": "2021-06-14T08:23:35.555Z"
   },
   {
    "duration": 2876,
    "start_time": "2021-06-14T08:24:04.236Z"
   },
   {
    "duration": 3132,
    "start_time": "2021-06-14T08:24:33.805Z"
   },
   {
    "duration": 2081,
    "start_time": "2021-06-14T08:37:06.272Z"
   },
   {
    "duration": 3176,
    "start_time": "2021-06-14T08:40:39.841Z"
   },
   {
    "duration": 2224,
    "start_time": "2021-06-14T08:41:23.770Z"
   },
   {
    "duration": 2366,
    "start_time": "2021-06-14T08:43:38.298Z"
   },
   {
    "duration": 1970,
    "start_time": "2021-06-14T08:43:57.590Z"
   },
   {
    "duration": 1980,
    "start_time": "2021-06-14T08:44:11.034Z"
   },
   {
    "duration": 1225,
    "start_time": "2021-06-14T08:47:03.747Z"
   },
   {
    "duration": 359,
    "start_time": "2021-06-14T08:53:51.428Z"
   },
   {
    "duration": 2955,
    "start_time": "2021-06-14T08:54:02.159Z"
   },
   {
    "duration": 6,
    "start_time": "2021-06-14T08:54:59.467Z"
   },
   {
    "duration": 432,
    "start_time": "2021-06-14T08:57:42.773Z"
   },
   {
    "duration": 13274,
    "start_time": "2021-06-14T08:58:39.101Z"
   },
   {
    "duration": 4962,
    "start_time": "2021-06-14T08:59:32.689Z"
   },
   {
    "duration": 5694,
    "start_time": "2021-06-14T09:00:02.855Z"
   },
   {
    "duration": 386,
    "start_time": "2021-06-14T09:00:36.908Z"
   },
   {
    "duration": 3981,
    "start_time": "2021-06-14T09:01:12.931Z"
   },
   {
    "duration": 2849,
    "start_time": "2021-06-14T09:02:45.462Z"
   },
   {
    "duration": 12355,
    "start_time": "2021-06-14T09:03:12.772Z"
   },
   {
    "duration": 2912,
    "start_time": "2021-06-14T09:03:45.568Z"
   },
   {
    "duration": 2825,
    "start_time": "2021-06-14T09:05:10.193Z"
   },
   {
    "duration": 3207,
    "start_time": "2021-06-14T09:05:27.481Z"
   },
   {
    "duration": 2898,
    "start_time": "2021-06-14T09:06:33.594Z"
   },
   {
    "duration": 3755,
    "start_time": "2021-06-14T09:07:39.607Z"
   },
   {
    "duration": 3190,
    "start_time": "2021-06-14T09:08:03.381Z"
   },
   {
    "duration": 3661,
    "start_time": "2021-06-14T09:08:14.538Z"
   },
   {
    "duration": 2982,
    "start_time": "2021-06-14T09:08:38.934Z"
   },
   {
    "duration": 2920,
    "start_time": "2021-06-14T09:08:46.196Z"
   },
   {
    "duration": 4420,
    "start_time": "2021-06-14T09:22:19.614Z"
   },
   {
    "duration": 4060,
    "start_time": "2021-06-14T09:22:48.457Z"
   },
   {
    "duration": 5219,
    "start_time": "2021-06-14T09:24:32.695Z"
   },
   {
    "duration": 5619,
    "start_time": "2021-06-14T09:25:13.162Z"
   },
   {
    "duration": 3187,
    "start_time": "2021-06-14T09:26:12.643Z"
   },
   {
    "duration": 2111,
    "start_time": "2021-06-14T09:28:08.463Z"
   },
   {
    "duration": 3430,
    "start_time": "2021-06-14T09:29:17.293Z"
   },
   {
    "duration": 3392,
    "start_time": "2021-06-14T09:29:31.637Z"
   },
   {
    "duration": 6,
    "start_time": "2021-06-14T09:36:47.156Z"
   },
   {
    "duration": 5,
    "start_time": "2021-06-14T10:24:14.292Z"
   },
   {
    "duration": 3,
    "start_time": "2021-06-14T10:37:45.400Z"
   },
   {
    "duration": 4,
    "start_time": "2021-06-14T10:37:45.902Z"
   },
   {
    "duration": 4,
    "start_time": "2021-06-14T10:37:52.988Z"
   },
   {
    "duration": 10,
    "start_time": "2021-06-14T10:55:42.872Z"
   },
   {
    "duration": 7,
    "start_time": "2021-06-14T10:57:24.015Z"
   },
   {
    "duration": 37,
    "start_time": "2021-06-14T10:57:24.026Z"
   },
   {
    "duration": 5,
    "start_time": "2021-06-14T10:57:24.066Z"
   },
   {
    "duration": 8,
    "start_time": "2021-06-14T10:57:24.074Z"
   },
   {
    "duration": 32,
    "start_time": "2021-06-14T10:57:24.085Z"
   },
   {
    "duration": 5,
    "start_time": "2021-06-14T10:57:24.119Z"
   },
   {
    "duration": 18,
    "start_time": "2021-06-14T10:57:24.126Z"
   },
   {
    "duration": 97,
    "start_time": "2021-06-14T10:57:24.146Z"
   },
   {
    "duration": 16,
    "start_time": "2021-06-14T10:57:24.271Z"
   },
   {
    "duration": 8,
    "start_time": "2021-06-14T10:57:24.290Z"
   },
   {
    "duration": 17,
    "start_time": "2021-06-14T10:57:24.301Z"
   },
   {
    "duration": 15,
    "start_time": "2021-06-14T10:57:24.321Z"
   },
   {
    "duration": 7,
    "start_time": "2021-06-14T10:57:24.339Z"
   },
   {
    "duration": 63,
    "start_time": "2021-06-14T10:57:24.348Z"
   },
   {
    "duration": 5,
    "start_time": "2021-06-14T10:57:24.413Z"
   },
   {
    "duration": 5592,
    "start_time": "2021-06-14T10:57:24.421Z"
   },
   {
    "duration": 3283,
    "start_time": "2021-06-14T10:57:30.017Z"
   },
   {
    "duration": 1574,
    "start_time": "2021-06-14T10:57:33.303Z"
   },
   {
    "duration": 9,
    "start_time": "2021-06-14T10:57:34.879Z"
   },
   {
    "duration": 33,
    "start_time": "2021-06-14T10:57:34.890Z"
   },
   {
    "duration": 5,
    "start_time": "2021-06-14T10:57:34.925Z"
   },
   {
    "duration": 6294,
    "start_time": "2021-06-14T10:57:34.932Z"
   },
   {
    "duration": 5,
    "start_time": "2021-06-14T10:57:41.228Z"
   },
   {
    "duration": 77,
    "start_time": "2021-06-14T10:57:41.236Z"
   },
   {
    "duration": 95,
    "start_time": "2021-06-14T10:57:41.316Z"
   },
   {
    "duration": 26073,
    "start_time": "2021-06-14T10:57:41.413Z"
   },
   {
    "duration": 402,
    "start_time": "2021-06-14T10:58:07.488Z"
   },
   {
    "duration": 17,
    "start_time": "2021-06-14T10:58:07.892Z"
   },
   {
    "duration": 998,
    "start_time": "2021-06-14T10:58:07.912Z"
   },
   {
    "duration": 11,
    "start_time": "2021-06-14T10:58:36.544Z"
   },
   {
    "duration": 8,
    "start_time": "2021-06-14T11:01:43.838Z"
   },
   {
    "duration": 45,
    "start_time": "2021-06-14T11:01:43.848Z"
   },
   {
    "duration": 5,
    "start_time": "2021-06-14T11:01:43.895Z"
   },
   {
    "duration": 11,
    "start_time": "2021-06-14T11:01:43.902Z"
   },
   {
    "duration": 12,
    "start_time": "2021-06-14T11:01:43.916Z"
   },
   {
    "duration": 5,
    "start_time": "2021-06-14T11:01:43.932Z"
   },
   {
    "duration": 15,
    "start_time": "2021-06-14T11:01:43.942Z"
   },
   {
    "duration": 119,
    "start_time": "2021-06-14T11:01:43.961Z"
   },
   {
    "duration": 40,
    "start_time": "2021-06-14T11:01:44.083Z"
   },
   {
    "duration": 10,
    "start_time": "2021-06-14T11:01:44.126Z"
   },
   {
    "duration": 14,
    "start_time": "2021-06-14T11:01:44.139Z"
   },
   {
    "duration": 63,
    "start_time": "2021-06-14T11:01:44.155Z"
   },
   {
    "duration": 7,
    "start_time": "2021-06-14T11:01:44.220Z"
   },
   {
    "duration": 28,
    "start_time": "2021-06-14T11:01:44.230Z"
   },
   {
    "duration": 5,
    "start_time": "2021-06-14T11:01:44.261Z"
   },
   {
    "duration": 5616,
    "start_time": "2021-06-14T11:01:44.269Z"
   },
   {
    "duration": 3302,
    "start_time": "2021-06-14T11:01:49.887Z"
   },
   {
    "duration": 1359,
    "start_time": "2021-06-14T11:01:53.194Z"
   },
   {
    "duration": 9,
    "start_time": "2021-06-14T11:01:54.556Z"
   },
   {
    "duration": 14,
    "start_time": "2021-06-14T11:01:54.568Z"
   },
   {
    "duration": 5,
    "start_time": "2021-06-14T11:01:54.609Z"
   },
   {
    "duration": 6303,
    "start_time": "2021-06-14T11:01:54.616Z"
   },
   {
    "duration": 4,
    "start_time": "2021-06-14T11:02:00.922Z"
   },
   {
    "duration": 84,
    "start_time": "2021-06-14T11:02:00.929Z"
   },
   {
    "duration": 94,
    "start_time": "2021-06-14T11:02:01.016Z"
   },
   {
    "duration": 26805,
    "start_time": "2021-06-14T11:02:01.113Z"
   },
   {
    "duration": 400,
    "start_time": "2021-06-14T11:02:27.920Z"
   },
   {
    "duration": 9,
    "start_time": "2021-06-14T11:02:28.322Z"
   },
   {
    "duration": 1116,
    "start_time": "2021-06-14T11:02:28.334Z"
   },
   {
    "duration": 15,
    "start_time": "2021-06-14T11:02:29.452Z"
   },
   {
    "duration": 6,
    "start_time": "2021-06-14T11:02:29.469Z"
   },
   {
    "duration": 4741,
    "start_time": "2021-06-14T11:02:29.478Z"
   },
   {
    "duration": 90,
    "start_time": "2021-06-14T11:02:34.222Z"
   },
   {
    "duration": 95,
    "start_time": "2021-06-14T11:02:34.316Z"
   },
   {
    "duration": 25452,
    "start_time": "2021-06-14T11:02:34.413Z"
   },
   {
    "duration": 403,
    "start_time": "2021-06-14T11:02:59.868Z"
   },
   {
    "duration": 9,
    "start_time": "2021-06-14T11:03:00.274Z"
   },
   {
    "duration": 1079,
    "start_time": "2021-06-14T11:03:00.286Z"
   },
   {
    "duration": 11,
    "start_time": "2021-06-14T11:03:01.368Z"
   },
   {
    "duration": 153832,
    "start_time": "2021-06-14T11:03:01.382Z"
   },
   {
    "duration": 7753,
    "start_time": "2021-06-14T11:05:35.217Z"
   },
   {
    "duration": 19,
    "start_time": "2021-06-14T11:05:42.972Z"
   },
   {
    "duration": 350,
    "start_time": "2021-06-14T11:05:42.993Z"
   },
   {
    "duration": 1765,
    "start_time": "2021-06-14T11:05:43.345Z"
   },
   {
    "duration": 6,
    "start_time": "2021-06-14T11:05:45.112Z"
   },
   {
    "duration": 13,
    "start_time": "2021-06-14T11:05:45.121Z"
   },
   {
    "duration": 11,
    "start_time": "2021-06-14T11:05:45.137Z"
   },
   {
    "duration": 30,
    "start_time": "2021-06-14T11:05:45.150Z"
   },
   {
    "duration": 386,
    "start_time": "2021-06-14T11:05:45.182Z"
   },
   {
    "duration": 2234,
    "start_time": "2021-06-14T11:05:45.574Z"
   },
   {
    "duration": 3652,
    "start_time": "2021-06-14T11:05:47.811Z"
   },
   {
    "duration": 11,
    "start_time": "2021-06-14T11:05:51.466Z"
   },
   {
    "duration": 6,
    "start_time": "2021-06-14T11:19:29.766Z"
   },
   {
    "duration": 6,
    "start_time": "2021-06-14T11:20:09.701Z"
   }
  ],
  "colab": {
   "name": "project5.ipynb",
   "provenance": []
  },
  "kernelspec": {
   "display_name": "Python 3 (ipykernel)",
   "language": "python",
   "name": "python3"
  },
  "language_info": {
   "codemirror_mode": {
    "name": "ipython",
    "version": 3
   },
   "file_extension": ".py",
   "mimetype": "text/x-python",
   "name": "python",
   "nbconvert_exporter": "python",
   "pygments_lexer": "ipython3",
   "version": "3.9.7"
  },
  "toc": {
   "base_numbering": "",
   "nav_menu": {},
   "number_sections": false,
   "sideBar": true,
   "skip_h1_title": false,
   "title_cell": "Содержание",
   "title_sidebar": "Содержание",
   "toc_cell": true,
   "toc_position": {
    "height": "calc(100% - 180px)",
    "left": "10px",
    "top": "150px",
    "width": "255.594px"
   },
   "toc_section_display": true,
   "toc_window_display": false
  }
 },
 "nbformat": 4,
 "nbformat_minor": 1
}
